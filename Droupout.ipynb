{
 "cells": [
  {
   "cell_type": "markdown",
   "id": "cd5d13b1",
   "metadata": {},
   "source": [
    "### Predicting school dropout"
   ]
  },
  {
   "cell_type": "code",
   "execution_count": 1,
   "id": "c886d57e",
   "metadata": {},
   "outputs": [],
   "source": [
    "import pandas as pd\n",
    "from sklearn.model_selection import train_test_split\n",
    "from sklearn.linear_model import LogisticRegression\n",
    "from sklearn.metrics import accuracy_score, classification_report\n",
    "from sklearn.preprocessing import StandardScaler, LabelEncoder\n",
    "from sklearn.impute import SimpleImputer"
   ]
  },
  {
   "cell_type": "code",
   "execution_count": 2,
   "id": "fd7530e8",
   "metadata": {},
   "outputs": [],
   "source": [
    "# Load the dataset\n",
    "data = pd.read_csv('students_data.csv', low_memory=False)"
   ]
  },
  {
   "cell_type": "code",
   "execution_count": 3,
   "id": "2203bd24",
   "metadata": {},
   "outputs": [
    {
     "data": {
      "text/html": [
       "<div>\n",
       "<style scoped>\n",
       "    .dataframe tbody tr th:only-of-type {\n",
       "        vertical-align: middle;\n",
       "    }\n",
       "\n",
       "    .dataframe tbody tr th {\n",
       "        vertical-align: top;\n",
       "    }\n",
       "\n",
       "    .dataframe thead th {\n",
       "        text-align: right;\n",
       "    }\n",
       "</style>\n",
       "<table border=\"1\" class=\"dataframe\">\n",
       "  <thead>\n",
       "    <tr style=\"text-align: right;\">\n",
       "      <th></th>\n",
       "      <th>_id</th>\n",
       "      <th>FullName</th>\n",
       "      <th>Regno</th>\n",
       "      <th>Gender</th>\n",
       "      <th>disable</th>\n",
       "      <th>ProfilePic</th>\n",
       "      <th>Class</th>\n",
       "      <th>__v</th>\n",
       "      <th>createdAt</th>\n",
       "      <th>updatedAt</th>\n",
       "      <th>...</th>\n",
       "      <th>BirthOrder</th>\n",
       "      <th>Dob</th>\n",
       "      <th>InterpBehaviour</th>\n",
       "      <th>LightingEnergy</th>\n",
       "      <th>Residence</th>\n",
       "      <th>Hazard</th>\n",
       "      <th>GreenSpaces</th>\n",
       "      <th>Transport</th>\n",
       "      <th>GuardianName</th>\n",
       "      <th>GuardianJob</th>\n",
       "    </tr>\n",
       "  </thead>\n",
       "  <tbody>\n",
       "    <tr>\n",
       "      <th>0</th>\n",
       "      <td>65f17c113d8b442eca574c53</td>\n",
       "      <td>IRAKOZE NSABIYUMVA BENOIT</td>\n",
       "      <td>4.10803E+11</td>\n",
       "      <td>MALE</td>\n",
       "      <td>NaN</td>\n",
       "      <td>NaN</td>\n",
       "      <td>65f081f5c67b2e6822d9469a</td>\n",
       "      <td>1</td>\n",
       "      <td>2024-03-13 10:12:33.811</td>\n",
       "      <td>2024-05-30 19:43:18.662</td>\n",
       "      <td>...</td>\n",
       "      <td>NaN</td>\n",
       "      <td>NaN</td>\n",
       "      <td>NaN</td>\n",
       "      <td>NaN</td>\n",
       "      <td>NaN</td>\n",
       "      <td>NaN</td>\n",
       "      <td>NaN</td>\n",
       "      <td>NaN</td>\n",
       "      <td>NaN</td>\n",
       "      <td>NaN</td>\n",
       "    </tr>\n",
       "    <tr>\n",
       "      <th>1</th>\n",
       "      <td>65f17c113d8b442eca574c54</td>\n",
       "      <td>MUYIZERE CHANCE</td>\n",
       "      <td>1.21202E+11</td>\n",
       "      <td>FEMALE</td>\n",
       "      <td>No</td>\n",
       "      <td>NaN</td>\n",
       "      <td>65f081f5c67b2e6822d9469a</td>\n",
       "      <td>1</td>\n",
       "      <td>2024-03-13 10:12:33.811</td>\n",
       "      <td>2024-05-30 19:43:18.769</td>\n",
       "      <td>...</td>\n",
       "      <td>NaN</td>\n",
       "      <td>NaN</td>\n",
       "      <td>NaN</td>\n",
       "      <td>NaN</td>\n",
       "      <td>NaN</td>\n",
       "      <td>NaN</td>\n",
       "      <td>NaN</td>\n",
       "      <td>NaN</td>\n",
       "      <td>NaN</td>\n",
       "      <td>NaN</td>\n",
       "    </tr>\n",
       "    <tr>\n",
       "      <th>2</th>\n",
       "      <td>65f17c113d8b442eca574c55</td>\n",
       "      <td>NIYOGUSHIMWA Soleil</td>\n",
       "      <td>4.10803E+11</td>\n",
       "      <td>FEMALE</td>\n",
       "      <td>No</td>\n",
       "      <td>NaN</td>\n",
       "      <td>65f081f5c67b2e6822d9469a</td>\n",
       "      <td>1</td>\n",
       "      <td>2024-03-13 10:12:33.811</td>\n",
       "      <td>2024-05-30 19:43:18.871</td>\n",
       "      <td>...</td>\n",
       "      <td>NaN</td>\n",
       "      <td>NaN</td>\n",
       "      <td>NaN</td>\n",
       "      <td>NaN</td>\n",
       "      <td>NaN</td>\n",
       "      <td>NaN</td>\n",
       "      <td>NaN</td>\n",
       "      <td>NaN</td>\n",
       "      <td>NaN</td>\n",
       "      <td>NaN</td>\n",
       "    </tr>\n",
       "    <tr>\n",
       "      <th>3</th>\n",
       "      <td>65f17c113d8b442eca574c57</td>\n",
       "      <td>ABIMANIKUNDA CARINE</td>\n",
       "      <td>4.20613E+11</td>\n",
       "      <td>FEMALE</td>\n",
       "      <td>Yes</td>\n",
       "      <td>NaN</td>\n",
       "      <td>65f081f5c67b2e6822d9469a</td>\n",
       "      <td>1</td>\n",
       "      <td>2024-03-13 10:12:33.811</td>\n",
       "      <td>2024-05-30 19:43:18.973</td>\n",
       "      <td>...</td>\n",
       "      <td>NaN</td>\n",
       "      <td>NaN</td>\n",
       "      <td>NaN</td>\n",
       "      <td>NaN</td>\n",
       "      <td>NaN</td>\n",
       "      <td>NaN</td>\n",
       "      <td>NaN</td>\n",
       "      <td>NaN</td>\n",
       "      <td>NaN</td>\n",
       "      <td>NaN</td>\n",
       "    </tr>\n",
       "    <tr>\n",
       "      <th>4</th>\n",
       "      <td>65f17c113d8b442eca574c58</td>\n",
       "      <td>IRANZI Pacifique</td>\n",
       "      <td>4.10803E+11</td>\n",
       "      <td>MALE</td>\n",
       "      <td>NaN</td>\n",
       "      <td>NaN</td>\n",
       "      <td>65f081f5c67b2e6822d9469a</td>\n",
       "      <td>1</td>\n",
       "      <td>2024-03-13 10:12:33.812</td>\n",
       "      <td>2024-05-30 19:43:18.977</td>\n",
       "      <td>...</td>\n",
       "      <td>NaN</td>\n",
       "      <td>NaN</td>\n",
       "      <td>NaN</td>\n",
       "      <td>NaN</td>\n",
       "      <td>NaN</td>\n",
       "      <td>NaN</td>\n",
       "      <td>NaN</td>\n",
       "      <td>NaN</td>\n",
       "      <td>NaN</td>\n",
       "      <td>NaN</td>\n",
       "    </tr>\n",
       "    <tr>\n",
       "      <th>...</th>\n",
       "      <td>...</td>\n",
       "      <td>...</td>\n",
       "      <td>...</td>\n",
       "      <td>...</td>\n",
       "      <td>...</td>\n",
       "      <td>...</td>\n",
       "      <td>...</td>\n",
       "      <td>...</td>\n",
       "      <td>...</td>\n",
       "      <td>...</td>\n",
       "      <td>...</td>\n",
       "      <td>...</td>\n",
       "      <td>...</td>\n",
       "      <td>...</td>\n",
       "      <td>...</td>\n",
       "      <td>...</td>\n",
       "      <td>...</td>\n",
       "      <td>...</td>\n",
       "      <td>...</td>\n",
       "      <td>...</td>\n",
       "      <td>...</td>\n",
       "    </tr>\n",
       "    <tr>\n",
       "      <th>87392</th>\n",
       "      <td>66fff85ad3591274d9188c34</td>\n",
       "      <td>UWUMUHISHA Denyse</td>\n",
       "      <td>202410000779</td>\n",
       "      <td>FEMALE</td>\n",
       "      <td>NaN</td>\n",
       "      <td>NaN</td>\n",
       "      <td>66bc608bf1578cc030b6fbf8</td>\n",
       "      <td>0</td>\n",
       "      <td>2024-10-04 14:14:50.872</td>\n",
       "      <td>2024-10-04 14:14:50.872</td>\n",
       "      <td>...</td>\n",
       "      <td>Thirdborn</td>\n",
       "      <td>2018-10-18 00:00:00</td>\n",
       "      <td>Sharp</td>\n",
       "      <td>Solar</td>\n",
       "      <td>House</td>\n",
       "      <td>none</td>\n",
       "      <td>No Access to Green Spaces</td>\n",
       "      <td>Walking</td>\n",
       "      <td>NaN</td>\n",
       "      <td>NaN</td>\n",
       "    </tr>\n",
       "    <tr>\n",
       "      <th>87393</th>\n",
       "      <td>66fff930d3591274d9188c45</td>\n",
       "      <td>UWIMANIDUHAYE Seraphine</td>\n",
       "      <td>202410000780</td>\n",
       "      <td>FEMALE</td>\n",
       "      <td>NaN</td>\n",
       "      <td>NaN</td>\n",
       "      <td>66bc608bf1578cc030b6fbf8</td>\n",
       "      <td>0</td>\n",
       "      <td>2024-10-04 14:18:24.578</td>\n",
       "      <td>2024-10-04 14:18:24.578</td>\n",
       "      <td>...</td>\n",
       "      <td>Secondborn</td>\n",
       "      <td>2016-04-07 00:00:00</td>\n",
       "      <td>Sharp</td>\n",
       "      <td>Solar</td>\n",
       "      <td>House</td>\n",
       "      <td>NaN</td>\n",
       "      <td>No Access to Green Spaces</td>\n",
       "      <td>Walking</td>\n",
       "      <td>NaN</td>\n",
       "      <td>NaN</td>\n",
       "    </tr>\n",
       "    <tr>\n",
       "      <th>87394</th>\n",
       "      <td>66fffa6994f358e27eba27f5</td>\n",
       "      <td>UWINEZA Clemantine</td>\n",
       "      <td>202410000781</td>\n",
       "      <td>FEMALE</td>\n",
       "      <td>NaN</td>\n",
       "      <td>NaN</td>\n",
       "      <td>66bc608bf1578cc030b6fbf8</td>\n",
       "      <td>0</td>\n",
       "      <td>2024-10-04 14:23:37.711</td>\n",
       "      <td>2024-10-04 14:23:37.711</td>\n",
       "      <td>...</td>\n",
       "      <td>Thirdborn</td>\n",
       "      <td>2016-02-17 00:00:00</td>\n",
       "      <td>Sharp</td>\n",
       "      <td>Solar</td>\n",
       "      <td>House</td>\n",
       "      <td>NaN</td>\n",
       "      <td>No Access to Green Spaces</td>\n",
       "      <td>Walking</td>\n",
       "      <td>NaN</td>\n",
       "      <td>NaN</td>\n",
       "    </tr>\n",
       "    <tr>\n",
       "      <th>87395</th>\n",
       "      <td>66fffb2bd3591274d9188c68</td>\n",
       "      <td>MUTUYIMANA Delphine</td>\n",
       "      <td>202410000782</td>\n",
       "      <td>FEMALE</td>\n",
       "      <td>NaN</td>\n",
       "      <td>NaN</td>\n",
       "      <td>66bc608bf1578cc030b6fbf8</td>\n",
       "      <td>0</td>\n",
       "      <td>2024-10-04 14:26:51.596</td>\n",
       "      <td>2024-10-04 14:26:51.596</td>\n",
       "      <td>...</td>\n",
       "      <td>Fourthborn</td>\n",
       "      <td>2014-01-09 00:00:00</td>\n",
       "      <td>Sharp</td>\n",
       "      <td>Solar</td>\n",
       "      <td>House</td>\n",
       "      <td>NaN</td>\n",
       "      <td>No Access to Green Spaces</td>\n",
       "      <td>Walking</td>\n",
       "      <td>NaN</td>\n",
       "      <td>NaN</td>\n",
       "    </tr>\n",
       "    <tr>\n",
       "      <th>87396</th>\n",
       "      <td>670008fa94f358e27eba2828</td>\n",
       "      <td>Jean bosco</td>\n",
       "      <td>202410000783</td>\n",
       "      <td>MALE</td>\n",
       "      <td>NaN</td>\n",
       "      <td>NaN</td>\n",
       "      <td>663b61e2d2c72211a9ccda79</td>\n",
       "      <td>0</td>\n",
       "      <td>2024-10-04 15:25:46.537</td>\n",
       "      <td>2024-10-04 15:25:46.537</td>\n",
       "      <td>...</td>\n",
       "      <td>NaN</td>\n",
       "      <td>NaN</td>\n",
       "      <td>NaN</td>\n",
       "      <td>NaN</td>\n",
       "      <td>NaN</td>\n",
       "      <td>NaN</td>\n",
       "      <td>NaN</td>\n",
       "      <td>NaN</td>\n",
       "      <td>NaN</td>\n",
       "      <td>NaN</td>\n",
       "    </tr>\n",
       "  </tbody>\n",
       "</table>\n",
       "<p>87397 rows × 46 columns</p>\n",
       "</div>"
      ],
      "text/plain": [
       "                            _id                   FullName         Regno  \\\n",
       "0      65f17c113d8b442eca574c53  IRAKOZE NSABIYUMVA BENOIT   4.10803E+11   \n",
       "1      65f17c113d8b442eca574c54            MUYIZERE CHANCE   1.21202E+11   \n",
       "2      65f17c113d8b442eca574c55        NIYOGUSHIMWA Soleil   4.10803E+11   \n",
       "3      65f17c113d8b442eca574c57        ABIMANIKUNDA CARINE   4.20613E+11   \n",
       "4      65f17c113d8b442eca574c58           IRANZI Pacifique   4.10803E+11   \n",
       "...                         ...                        ...           ...   \n",
       "87392  66fff85ad3591274d9188c34          UWUMUHISHA Denyse  202410000779   \n",
       "87393  66fff930d3591274d9188c45   UWIMANIDUHAYE Seraphine   202410000780   \n",
       "87394  66fffa6994f358e27eba27f5         UWINEZA Clemantine  202410000781   \n",
       "87395  66fffb2bd3591274d9188c68       MUTUYIMANA Delphine   202410000782   \n",
       "87396  670008fa94f358e27eba2828                Jean bosco   202410000783   \n",
       "\n",
       "       Gender disable  ProfilePic                     Class  __v  \\\n",
       "0        MALE     NaN         NaN  65f081f5c67b2e6822d9469a    1   \n",
       "1      FEMALE      No         NaN  65f081f5c67b2e6822d9469a    1   \n",
       "2      FEMALE      No         NaN  65f081f5c67b2e6822d9469a    1   \n",
       "3      FEMALE     Yes         NaN  65f081f5c67b2e6822d9469a    1   \n",
       "4        MALE     NaN         NaN  65f081f5c67b2e6822d9469a    1   \n",
       "...       ...     ...         ...                       ...  ...   \n",
       "87392  FEMALE     NaN         NaN  66bc608bf1578cc030b6fbf8    0   \n",
       "87393  FEMALE     NaN         NaN  66bc608bf1578cc030b6fbf8    0   \n",
       "87394  FEMALE     NaN         NaN  66bc608bf1578cc030b6fbf8    0   \n",
       "87395  FEMALE     NaN         NaN  66bc608bf1578cc030b6fbf8    0   \n",
       "87396    MALE     NaN         NaN  663b61e2d2c72211a9ccda79    0   \n",
       "\n",
       "                     createdAt                updatedAt  ...  BirthOrder  \\\n",
       "0      2024-03-13 10:12:33.811  2024-05-30 19:43:18.662  ...         NaN   \n",
       "1      2024-03-13 10:12:33.811  2024-05-30 19:43:18.769  ...         NaN   \n",
       "2      2024-03-13 10:12:33.811  2024-05-30 19:43:18.871  ...         NaN   \n",
       "3      2024-03-13 10:12:33.811  2024-05-30 19:43:18.973  ...         NaN   \n",
       "4      2024-03-13 10:12:33.812  2024-05-30 19:43:18.977  ...         NaN   \n",
       "...                        ...                      ...  ...         ...   \n",
       "87392  2024-10-04 14:14:50.872  2024-10-04 14:14:50.872  ...   Thirdborn   \n",
       "87393  2024-10-04 14:18:24.578  2024-10-04 14:18:24.578  ...  Secondborn   \n",
       "87394  2024-10-04 14:23:37.711  2024-10-04 14:23:37.711  ...   Thirdborn   \n",
       "87395  2024-10-04 14:26:51.596  2024-10-04 14:26:51.596  ...  Fourthborn   \n",
       "87396  2024-10-04 15:25:46.537  2024-10-04 15:25:46.537  ...         NaN   \n",
       "\n",
       "                       Dob InterpBehaviour LightingEnergy Residence Hazard  \\\n",
       "0                      NaN             NaN            NaN       NaN    NaN   \n",
       "1                      NaN             NaN            NaN       NaN    NaN   \n",
       "2                      NaN             NaN            NaN       NaN    NaN   \n",
       "3                      NaN             NaN            NaN       NaN    NaN   \n",
       "4                      NaN             NaN            NaN       NaN    NaN   \n",
       "...                    ...             ...            ...       ...    ...   \n",
       "87392  2018-10-18 00:00:00           Sharp          Solar     House   none   \n",
       "87393  2016-04-07 00:00:00           Sharp          Solar     House    NaN   \n",
       "87394  2016-02-17 00:00:00           Sharp          Solar     House    NaN   \n",
       "87395  2014-01-09 00:00:00           Sharp          Solar     House    NaN   \n",
       "87396                  NaN             NaN            NaN       NaN    NaN   \n",
       "\n",
       "                     GreenSpaces Transport GuardianName GuardianJob  \n",
       "0                            NaN       NaN          NaN         NaN  \n",
       "1                            NaN       NaN          NaN         NaN  \n",
       "2                            NaN       NaN          NaN         NaN  \n",
       "3                            NaN       NaN          NaN         NaN  \n",
       "4                            NaN       NaN          NaN         NaN  \n",
       "...                          ...       ...          ...         ...  \n",
       "87392  No Access to Green Spaces   Walking          NaN         NaN  \n",
       "87393  No Access to Green Spaces   Walking          NaN         NaN  \n",
       "87394  No Access to Green Spaces   Walking          NaN         NaN  \n",
       "87395  No Access to Green Spaces   Walking          NaN         NaN  \n",
       "87396                        NaN       NaN          NaN         NaN  \n",
       "\n",
       "[87397 rows x 46 columns]"
      ]
     },
     "execution_count": 3,
     "metadata": {},
     "output_type": "execute_result"
    }
   ],
   "source": [
    "data"
   ]
  },
  {
   "cell_type": "code",
   "execution_count": 4,
   "id": "b015140e",
   "metadata": {},
   "outputs": [
    {
     "data": {
      "text/plain": [
       "Index(['_id', 'FullName', 'Regno', 'Gender', 'disable', 'ProfilePic', 'Class',\n",
       "       '__v', 'createdAt', 'updatedAt', 'Cell', 'District', 'FatherName',\n",
       "       'Isibo', 'MotherName', 'ParentTel', 'Province', 'Sector', 'Village',\n",
       "       'AllergiesType', 'Disabled', 'Status', 'parentAccountCreated',\n",
       "       'Disability', 'ChildStatus', 'DistanceToSchool', 'ParentDetail',\n",
       "       'ParentStatus', 'TravelTime', 'DroupoutReason', 'EducationalResources',\n",
       "       'MedicalConditions', 'Hobbies', 'MotherJob', 'FatherJob',\n",
       "       'FinancialStatus', 'BirthOrder', 'Dob', 'InterpBehaviour',\n",
       "       'LightingEnergy', 'Residence', 'Hazard', 'GreenSpaces', 'Transport',\n",
       "       'GuardianName', 'GuardianJob'],\n",
       "      dtype='object')"
      ]
     },
     "execution_count": 4,
     "metadata": {},
     "output_type": "execute_result"
    }
   ],
   "source": [
    "data.columns"
   ]
  },
  {
   "cell_type": "code",
   "execution_count": 5,
   "id": "ab202113",
   "metadata": {},
   "outputs": [],
   "source": [
    "# Select relevant features based on our previous analysis\n",
    "features = [\n",
    "    'Gender', 'Disability', 'ChildStatus', 'DistanceToSchool', 'BirthOrder', \n",
    "    'MedicalConditions', 'ParentStatus', 'MotherJob', 'FatherJob', \n",
    "    'FinancialStatus', 'Residence', 'Transport', 'LightingEnergy', 'Class'\n",
    "]"
   ]
  },
  {
   "cell_type": "code",
   "execution_count": 6,
   "id": "a6ba5917",
   "metadata": {},
   "outputs": [
    {
     "data": {
      "text/plain": [
       "array([nan, 'kubura ibikoresho by\"ishuri', \"Amafaranga Y'ishuri\",\n",
       "       'Minerval', 'Gutwita', 'Yagiye mugisirikare', 'Uburwayi ',\n",
       "       'Present', \"I DONT 'KNOW\", 'gutwita', 'double ', 'double listing',\n",
       "       'No reason ', 'minerval', 'inkweto', 'ikaramu', 'Gutwita ', 'Hh ',\n",
       "       'Amakaramu'], dtype=object)"
      ]
     },
     "execution_count": 6,
     "metadata": {},
     "output_type": "execute_result"
    }
   ],
   "source": [
    "data['DroupoutReason'].unique()"
   ]
  },
  {
   "cell_type": "code",
   "execution_count": 7,
   "id": "4f00dff4",
   "metadata": {},
   "outputs": [
    {
     "data": {
      "text/plain": [
       "_id                         0\n",
       "FullName                    3\n",
       "Regno                       0\n",
       "Gender                   2970\n",
       "disable                 86288\n",
       "ProfilePic              87397\n",
       "Class                       0\n",
       "__v                         0\n",
       "createdAt                   0\n",
       "updatedAt                   0\n",
       "Cell                    23469\n",
       "District                21590\n",
       "FatherName              34140\n",
       "Isibo                   60282\n",
       "MotherName              32323\n",
       "ParentTel               53967\n",
       "Province                28086\n",
       "Sector                  22315\n",
       "Village                 24830\n",
       "AllergiesType           86757\n",
       "Disabled                    0\n",
       "Status                      0\n",
       "parentAccountCreated        0\n",
       "Disability              19133\n",
       "ChildStatus             27844\n",
       "DistanceToSchool         5651\n",
       "ParentDetail            43371\n",
       "ParentStatus            26203\n",
       "TravelTime               1181\n",
       "DroupoutReason          87377\n",
       "EducationalResources    14540\n",
       "MedicalConditions       73319\n",
       "Hobbies                 56210\n",
       "MotherJob               80523\n",
       "FatherJob               79536\n",
       "FinancialStatus         14578\n",
       "BirthOrder              58629\n",
       "Dob                     52499\n",
       "InterpBehaviour         55241\n",
       "LightingEnergy          58900\n",
       "Residence               54826\n",
       "Hazard                  64221\n",
       "GreenSpaces             62851\n",
       "Transport               55747\n",
       "GuardianName            87181\n",
       "GuardianJob             87368\n",
       "dtype: int64"
      ]
     },
     "execution_count": 7,
     "metadata": {},
     "output_type": "execute_result"
    }
   ],
   "source": [
    "data.isnull().sum()"
   ]
  },
  {
   "cell_type": "code",
   "execution_count": 8,
   "id": "0435c72b",
   "metadata": {},
   "outputs": [],
   "source": [
    "final_data = data[[\n",
    "    'Gender', 'ChildStatus', 'DistanceToSchool', 'BirthOrder', \n",
    "    'FinancialStatus', 'Residence', 'Transport', 'LightingEnergy','DroupoutReason'\n",
    "]]"
   ]
  },
  {
   "cell_type": "code",
   "execution_count": 9,
   "id": "d837da3a",
   "metadata": {},
   "outputs": [
    {
     "data": {
      "text/html": [
       "<div>\n",
       "<style scoped>\n",
       "    .dataframe tbody tr th:only-of-type {\n",
       "        vertical-align: middle;\n",
       "    }\n",
       "\n",
       "    .dataframe tbody tr th {\n",
       "        vertical-align: top;\n",
       "    }\n",
       "\n",
       "    .dataframe thead th {\n",
       "        text-align: right;\n",
       "    }\n",
       "</style>\n",
       "<table border=\"1\" class=\"dataframe\">\n",
       "  <thead>\n",
       "    <tr style=\"text-align: right;\">\n",
       "      <th></th>\n",
       "      <th>Gender</th>\n",
       "      <th>ChildStatus</th>\n",
       "      <th>DistanceToSchool</th>\n",
       "      <th>BirthOrder</th>\n",
       "      <th>FinancialStatus</th>\n",
       "      <th>Residence</th>\n",
       "      <th>Transport</th>\n",
       "      <th>LightingEnergy</th>\n",
       "      <th>DroupoutReason</th>\n",
       "    </tr>\n",
       "  </thead>\n",
       "  <tbody>\n",
       "    <tr>\n",
       "      <th>0</th>\n",
       "      <td>MALE</td>\n",
       "      <td>NaN</td>\n",
       "      <td>NaN</td>\n",
       "      <td>NaN</td>\n",
       "      <td>NaN</td>\n",
       "      <td>NaN</td>\n",
       "      <td>NaN</td>\n",
       "      <td>NaN</td>\n",
       "      <td>NaN</td>\n",
       "    </tr>\n",
       "    <tr>\n",
       "      <th>1</th>\n",
       "      <td>FEMALE</td>\n",
       "      <td>NaN</td>\n",
       "      <td>NaN</td>\n",
       "      <td>NaN</td>\n",
       "      <td>NaN</td>\n",
       "      <td>NaN</td>\n",
       "      <td>NaN</td>\n",
       "      <td>NaN</td>\n",
       "      <td>NaN</td>\n",
       "    </tr>\n",
       "    <tr>\n",
       "      <th>2</th>\n",
       "      <td>FEMALE</td>\n",
       "      <td>NaN</td>\n",
       "      <td>NaN</td>\n",
       "      <td>NaN</td>\n",
       "      <td>NaN</td>\n",
       "      <td>NaN</td>\n",
       "      <td>NaN</td>\n",
       "      <td>NaN</td>\n",
       "      <td>NaN</td>\n",
       "    </tr>\n",
       "    <tr>\n",
       "      <th>3</th>\n",
       "      <td>FEMALE</td>\n",
       "      <td>NaN</td>\n",
       "      <td>NaN</td>\n",
       "      <td>NaN</td>\n",
       "      <td>NaN</td>\n",
       "      <td>NaN</td>\n",
       "      <td>NaN</td>\n",
       "      <td>NaN</td>\n",
       "      <td>NaN</td>\n",
       "    </tr>\n",
       "    <tr>\n",
       "      <th>4</th>\n",
       "      <td>MALE</td>\n",
       "      <td>NaN</td>\n",
       "      <td>NaN</td>\n",
       "      <td>NaN</td>\n",
       "      <td>NaN</td>\n",
       "      <td>NaN</td>\n",
       "      <td>NaN</td>\n",
       "      <td>NaN</td>\n",
       "      <td>NaN</td>\n",
       "    </tr>\n",
       "    <tr>\n",
       "      <th>...</th>\n",
       "      <td>...</td>\n",
       "      <td>...</td>\n",
       "      <td>...</td>\n",
       "      <td>...</td>\n",
       "      <td>...</td>\n",
       "      <td>...</td>\n",
       "      <td>...</td>\n",
       "      <td>...</td>\n",
       "      <td>...</td>\n",
       "    </tr>\n",
       "    <tr>\n",
       "      <th>87392</th>\n",
       "      <td>FEMALE</td>\n",
       "      <td>Both parents</td>\n",
       "      <td>3Km Km</td>\n",
       "      <td>Thirdborn</td>\n",
       "      <td>Medium</td>\n",
       "      <td>House</td>\n",
       "      <td>Walking</td>\n",
       "      <td>Solar</td>\n",
       "      <td>NaN</td>\n",
       "    </tr>\n",
       "    <tr>\n",
       "      <th>87393</th>\n",
       "      <td>FEMALE</td>\n",
       "      <td>Both parents</td>\n",
       "      <td>1km Km</td>\n",
       "      <td>Secondborn</td>\n",
       "      <td>Medium</td>\n",
       "      <td>House</td>\n",
       "      <td>Walking</td>\n",
       "      <td>Solar</td>\n",
       "      <td>NaN</td>\n",
       "    </tr>\n",
       "    <tr>\n",
       "      <th>87394</th>\n",
       "      <td>FEMALE</td>\n",
       "      <td>Both parents</td>\n",
       "      <td>2km  Km</td>\n",
       "      <td>Thirdborn</td>\n",
       "      <td>Medium</td>\n",
       "      <td>House</td>\n",
       "      <td>Walking</td>\n",
       "      <td>Solar</td>\n",
       "      <td>NaN</td>\n",
       "    </tr>\n",
       "    <tr>\n",
       "      <th>87395</th>\n",
       "      <td>FEMALE</td>\n",
       "      <td>Both parents</td>\n",
       "      <td>1km Km</td>\n",
       "      <td>Fourthborn</td>\n",
       "      <td>Medium</td>\n",
       "      <td>House</td>\n",
       "      <td>Walking</td>\n",
       "      <td>Solar</td>\n",
       "      <td>NaN</td>\n",
       "    </tr>\n",
       "    <tr>\n",
       "      <th>87396</th>\n",
       "      <td>MALE</td>\n",
       "      <td>NaN</td>\n",
       "      <td>NaN</td>\n",
       "      <td>NaN</td>\n",
       "      <td>NaN</td>\n",
       "      <td>NaN</td>\n",
       "      <td>NaN</td>\n",
       "      <td>NaN</td>\n",
       "      <td>NaN</td>\n",
       "    </tr>\n",
       "  </tbody>\n",
       "</table>\n",
       "<p>87397 rows × 9 columns</p>\n",
       "</div>"
      ],
      "text/plain": [
       "       Gender   ChildStatus DistanceToSchool  BirthOrder FinancialStatus  \\\n",
       "0        MALE           NaN              NaN         NaN             NaN   \n",
       "1      FEMALE           NaN              NaN         NaN             NaN   \n",
       "2      FEMALE           NaN              NaN         NaN             NaN   \n",
       "3      FEMALE           NaN              NaN         NaN             NaN   \n",
       "4        MALE           NaN              NaN         NaN             NaN   \n",
       "...       ...           ...              ...         ...             ...   \n",
       "87392  FEMALE  Both parents           3Km Km   Thirdborn          Medium   \n",
       "87393  FEMALE  Both parents           1km Km  Secondborn          Medium   \n",
       "87394  FEMALE  Both parents          2km  Km   Thirdborn          Medium   \n",
       "87395  FEMALE  Both parents           1km Km  Fourthborn          Medium   \n",
       "87396    MALE           NaN              NaN         NaN             NaN   \n",
       "\n",
       "      Residence Transport LightingEnergy DroupoutReason  \n",
       "0           NaN       NaN            NaN            NaN  \n",
       "1           NaN       NaN            NaN            NaN  \n",
       "2           NaN       NaN            NaN            NaN  \n",
       "3           NaN       NaN            NaN            NaN  \n",
       "4           NaN       NaN            NaN            NaN  \n",
       "...         ...       ...            ...            ...  \n",
       "87392     House   Walking          Solar            NaN  \n",
       "87393     House   Walking          Solar            NaN  \n",
       "87394     House   Walking          Solar            NaN  \n",
       "87395     House   Walking          Solar            NaN  \n",
       "87396       NaN       NaN            NaN            NaN  \n",
       "\n",
       "[87397 rows x 9 columns]"
      ]
     },
     "execution_count": 9,
     "metadata": {},
     "output_type": "execute_result"
    }
   ],
   "source": [
    "final_data"
   ]
  },
  {
   "cell_type": "code",
   "execution_count": 10,
   "id": "1ad225f4",
   "metadata": {},
   "outputs": [
    {
     "data": {
      "text/plain": [
       "Index(['Gender', 'ChildStatus', 'DistanceToSchool', 'BirthOrder',\n",
       "       'FinancialStatus', 'Residence', 'Transport', 'LightingEnergy',\n",
       "       'DroupoutReason'],\n",
       "      dtype='object')"
      ]
     },
     "execution_count": 10,
     "metadata": {},
     "output_type": "execute_result"
    }
   ],
   "source": [
    "final_data.columns"
   ]
  },
  {
   "cell_type": "code",
   "execution_count": 11,
   "id": "bb49fe4d",
   "metadata": {},
   "outputs": [
    {
     "data": {
      "text/plain": [
       "array(['MALE', 'FEMALE', 'Male', nan], dtype=object)"
      ]
     },
     "execution_count": 11,
     "metadata": {},
     "output_type": "execute_result"
    }
   ],
   "source": [
    "final_data['Gender'].unique()"
   ]
  },
  {
   "cell_type": "code",
   "execution_count": 12,
   "id": "c459d3d5",
   "metadata": {},
   "outputs": [
    {
     "data": {
      "text/plain": [
       "2970"
      ]
     },
     "execution_count": 12,
     "metadata": {},
     "output_type": "execute_result"
    }
   ],
   "source": [
    "final_data['Gender'].isna().sum()"
   ]
  },
  {
   "cell_type": "code",
   "execution_count": 13,
   "id": "de1417af",
   "metadata": {},
   "outputs": [
    {
     "name": "stderr",
     "output_type": "stream",
     "text": [
      "C:\\Users\\Hp\\AppData\\Local\\Temp\\ipykernel_19376\\1758802842.py:2: SettingWithCopyWarning: \n",
      "A value is trying to be set on a copy of a slice from a DataFrame.\n",
      "Try using .loc[row_indexer,col_indexer] = value instead\n",
      "\n",
      "See the caveats in the documentation: https://pandas.pydata.org/pandas-docs/stable/user_guide/indexing.html#returning-a-view-versus-a-copy\n",
      "  final_data['Gender'] = final_data['Gender'].replace('Male', 'MALE')\n"
     ]
    }
   ],
   "source": [
    "# Replace 'Male' with 'MALE' in the 'Gender' column\n",
    "final_data['Gender'] = final_data['Gender'].replace('Male', 'MALE')\n"
   ]
  },
  {
   "cell_type": "code",
   "execution_count": 14,
   "id": "7f44b762",
   "metadata": {},
   "outputs": [
    {
     "data": {
      "text/plain": [
       "array(['MALE', 'FEMALE', nan], dtype=object)"
      ]
     },
     "execution_count": 14,
     "metadata": {},
     "output_type": "execute_result"
    }
   ],
   "source": [
    "final_data['Gender'].unique()"
   ]
  },
  {
   "cell_type": "code",
   "execution_count": 15,
   "id": "789e7ebb",
   "metadata": {},
   "outputs": [
    {
     "name": "stdout",
     "output_type": "stream",
     "text": [
      "Number of MALE entries: 43381\n"
     ]
    }
   ],
   "source": [
    "# Count occurrences of 'MALE'\n",
    "male_count = final_data['Gender'].value_counts().get('FEMALE', 0)\n",
    "print(f\"Number of MALE entries: {male_count}\")"
   ]
  },
  {
   "cell_type": "code",
   "execution_count": 16,
   "id": "268057fb",
   "metadata": {},
   "outputs": [],
   "source": [
    "# Drop rows with NaN values in the 'Gender' column\n",
    "final_data = final_data.dropna(subset=['Gender'])\n"
   ]
  },
  {
   "cell_type": "code",
   "execution_count": 17,
   "id": "7a3ebfe4",
   "metadata": {},
   "outputs": [
    {
     "data": {
      "text/plain": [
       "array(['MALE', 'FEMALE'], dtype=object)"
      ]
     },
     "execution_count": 17,
     "metadata": {},
     "output_type": "execute_result"
    }
   ],
   "source": [
    "final_data['Gender'].unique()"
   ]
  },
  {
   "cell_type": "code",
   "execution_count": 18,
   "id": "dc66b9d4",
   "metadata": {},
   "outputs": [
    {
     "name": "stdout",
     "output_type": "stream",
     "text": [
      "<class 'pandas.core.frame.DataFrame'>\n",
      "Index: 84427 entries, 0 to 87396\n",
      "Data columns (total 9 columns):\n",
      " #   Column            Non-Null Count  Dtype \n",
      "---  ------            --------------  ----- \n",
      " 0   Gender            84427 non-null  object\n",
      " 1   ChildStatus       59230 non-null  object\n",
      " 2   DistanceToSchool  79008 non-null  object\n",
      " 3   BirthOrder        28682 non-null  object\n",
      " 4   FinancialStatus   70099 non-null  object\n",
      " 5   Residence         32446 non-null  object\n",
      " 6   Transport         31524 non-null  object\n",
      " 7   LightingEnergy    28401 non-null  object\n",
      " 8   DroupoutReason    20 non-null     object\n",
      "dtypes: object(9)\n",
      "memory usage: 6.4+ MB\n"
     ]
    }
   ],
   "source": [
    "final_data.info()"
   ]
  },
  {
   "cell_type": "code",
   "execution_count": null,
   "id": "7117da4e",
   "metadata": {},
   "outputs": [],
   "source": []
  },
  {
   "cell_type": "code",
   "execution_count": null,
   "id": "9cc274d1",
   "metadata": {},
   "outputs": [],
   "source": []
  },
  {
   "cell_type": "code",
   "execution_count": 19,
   "id": "a15afc32",
   "metadata": {},
   "outputs": [],
   "source": [
    "#final_data['Disability'].unique()"
   ]
  },
  {
   "cell_type": "code",
   "execution_count": 20,
   "id": "8529651f",
   "metadata": {},
   "outputs": [
    {
     "data": {
      "text/plain": [
       "array([nan, 'Orphan', 'Both parents', 'One parent'], dtype=object)"
      ]
     },
     "execution_count": 20,
     "metadata": {},
     "output_type": "execute_result"
    }
   ],
   "source": [
    "final_data['ChildStatus'].unique()"
   ]
  },
  {
   "cell_type": "code",
   "execution_count": 21,
   "id": "cf2297e4",
   "metadata": {},
   "outputs": [
    {
     "name": "stdout",
     "output_type": "stream",
     "text": [
      "Number of MALE entries: 4283\n"
     ]
    }
   ],
   "source": [
    "# Count occurrences of 'MALE'\n",
    "male_count = final_data['ChildStatus'].value_counts().get('One parent', 0)\n",
    "print(f\"Number of MALE entries: {male_count}\")"
   ]
  },
  {
   "cell_type": "code",
   "execution_count": 22,
   "id": "8eef107e",
   "metadata": {},
   "outputs": [
    {
     "name": "stderr",
     "output_type": "stream",
     "text": [
      "C:\\Users\\Hp\\AppData\\Local\\Temp\\ipykernel_19376\\1788574201.py:2: SettingWithCopyWarning: \n",
      "A value is trying to be set on a copy of a slice from a DataFrame.\n",
      "Try using .loc[row_indexer,col_indexer] = value instead\n",
      "\n",
      "See the caveats in the documentation: https://pandas.pydata.org/pandas-docs/stable/user_guide/indexing.html#returning-a-view-versus-a-copy\n",
      "  final_data['ChildStatus'] = final_data['ChildStatus'].fillna('Orphan')\n"
     ]
    }
   ],
   "source": [
    "# Replace NaN values in the 'ChildStatus' column with 'Orphan'\n",
    "final_data['ChildStatus'] = final_data['ChildStatus'].fillna('Orphan')\n"
   ]
  },
  {
   "cell_type": "code",
   "execution_count": 23,
   "id": "18696d2c",
   "metadata": {},
   "outputs": [
    {
     "data": {
      "text/plain": [
       "array(['Orphan', 'Both parents', 'One parent'], dtype=object)"
      ]
     },
     "execution_count": 23,
     "metadata": {},
     "output_type": "execute_result"
    }
   ],
   "source": [
    "final_data['ChildStatus'].unique()"
   ]
  },
  {
   "cell_type": "code",
   "execution_count": null,
   "id": "7fada659",
   "metadata": {},
   "outputs": [],
   "source": []
  },
  {
   "cell_type": "code",
   "execution_count": null,
   "id": "e591a69d",
   "metadata": {},
   "outputs": [],
   "source": []
  },
  {
   "cell_type": "code",
   "execution_count": null,
   "id": "13ad8347",
   "metadata": {},
   "outputs": [],
   "source": []
  },
  {
   "cell_type": "code",
   "execution_count": 24,
   "id": "55f64948",
   "metadata": {},
   "outputs": [
    {
     "data": {
      "text/plain": [
       "array([nan, '2', '5Km', ..., '119 Km', '148 Km', '174 Km'], dtype=object)"
      ]
     },
     "execution_count": 24,
     "metadata": {},
     "output_type": "execute_result"
    }
   ],
   "source": [
    "final_data['DistanceToSchool'].unique()"
   ]
  },
  {
   "cell_type": "code",
   "execution_count": 25,
   "id": "78af39ea",
   "metadata": {},
   "outputs": [
    {
     "name": "stderr",
     "output_type": "stream",
     "text": [
      "C:\\Users\\Hp\\AppData\\Local\\Temp\\ipykernel_19376\\638966349.py:2: SettingWithCopyWarning: \n",
      "A value is trying to be set on a copy of a slice from a DataFrame.\n",
      "Try using .loc[row_indexer,col_indexer] = value instead\n",
      "\n",
      "See the caveats in the documentation: https://pandas.pydata.org/pandas-docs/stable/user_guide/indexing.html#returning-a-view-versus-a-copy\n",
      "  final_data['DistanceToSchool'] = final_data['DistanceToSchool'].str.replace('Km', '', regex=False)\n",
      "C:\\Users\\Hp\\AppData\\Local\\Temp\\ipykernel_19376\\638966349.py:3: SettingWithCopyWarning: \n",
      "A value is trying to be set on a copy of a slice from a DataFrame.\n",
      "Try using .loc[row_indexer,col_indexer] = value instead\n",
      "\n",
      "See the caveats in the documentation: https://pandas.pydata.org/pandas-docs/stable/user_guide/indexing.html#returning-a-view-versus-a-copy\n",
      "  final_data['DistanceToSchool'] = pd.to_numeric(final_data['DistanceToSchool'], errors='coerce')  # Convert to numeric\n",
      "C:\\Users\\Hp\\AppData\\Local\\Temp\\ipykernel_19376\\638966349.py:4: SettingWithCopyWarning: \n",
      "A value is trying to be set on a copy of a slice from a DataFrame.\n",
      "Try using .loc[row_indexer,col_indexer] = value instead\n",
      "\n",
      "See the caveats in the documentation: https://pandas.pydata.org/pandas-docs/stable/user_guide/indexing.html#returning-a-view-versus-a-copy\n",
      "  final_data['DistanceToSchool'] = final_data['DistanceToSchool'].fillna(0).astype(int)  # Replace NaN with 0 and convert to int\n"
     ]
    }
   ],
   "source": [
    "# Remove 'Km' and convert to integers, handling NaN\n",
    "final_data['DistanceToSchool'] = final_data['DistanceToSchool'].str.replace('Km', '', regex=False)\n",
    "final_data['DistanceToSchool'] = pd.to_numeric(final_data['DistanceToSchool'], errors='coerce')  # Convert to numeric\n",
    "final_data['DistanceToSchool'] = final_data['DistanceToSchool'].fillna(0).astype(int)  # Replace NaN with 0 and convert to int\n"
   ]
  },
  {
   "cell_type": "code",
   "execution_count": 26,
   "id": "f815a5c4",
   "metadata": {},
   "outputs": [
    {
     "data": {
      "text/plain": [
       "array([          0,           2,           5,           8,          12,\n",
       "                40,          45,         322,          33,         200,\n",
       "               125,         238,          67,           4,           1,\n",
       "                10,           3,        5000,           6,         400,\n",
       "               118,        3000,        6000,          50,         300,\n",
       "                30,          60,           7,          14,           9,\n",
       "                82,          70,         800,          20,         101,\n",
       "               107,         157,          58,         103,          80,\n",
       "                26,          52,         128,          53,         104,\n",
       "               135,          74,         121,         145,          42,\n",
       "              2900,         950,         500,          38,          56,\n",
       "                23,          89,          16,          19,          15,\n",
       "               150,         246,          13,         345,         987,\n",
       "               234,         100,          93,         250,         568,\n",
       "                25,         176,         180,   782419705,         600,\n",
       "               123,          85,         239,   785646145,         199,\n",
       "                87,   783479199,   728797308, -2147483648,   788550824,\n",
       "         726782556,   728614003,   793294119,    78464389,   783682615,\n",
       "         786452904,   798793100,   783996725,   787691368,          51,\n",
       "                17,          64,   729994351,   784731204,   727122044,\n",
       "         736507691,         385,   788576116,   788706777,   788251852,\n",
       "         798266073,   788645806,   723790855,   785543663,   724913846,\n",
       "         788212735,   783526818,   786024934,   783365092,   723724297,\n",
       "         782618712,   791520219,   780538187,   782150986,   726852833,\n",
       "         787377791,         700,   781596036,   737005829,   724250228,\n",
       "         785277731,   787281442,   791187875,   727687184,   784849106,\n",
       "         728270183,   727967371,   724758123,   785037412,   787580175,\n",
       "         798508400,   781712138,   724056924,   783674864,   781956177,\n",
       "         727211867,   722484923,   728721734,   728864404,          18,\n",
       "         788653337,   782549993,   792004331,   783382706,   791649969,\n",
       "                34,          21,   721591324,   722703806,   725749226,\n",
       "         788542020,   737077601,          11,   724899239,   791526126,\n",
       "         729307957,   727728773,   786527065,   784969333,   725584677,\n",
       "         788964607,   791987858,   788801456,   729298403,   780142500,\n",
       "                37,   780838734,   727900124,   784980822,   787784874,\n",
       "         787531643,   784009354,   786611864,   723674788,          72,\n",
       "                39,          36,          75,   789560333,   791186563,\n",
       "         724487180,   727761469,   791203637,   729991894,          83,\n",
       "         784515537,         120,          55,          68,          32,\n",
       "               105,         130,         110,          90,          48,\n",
       "               160,         140,         277,          47,          27,\n",
       "                35,      169100,         340,         450,          65,\n",
       "                57,   782920463,          95,         170,         172,\n",
       "               129,         113,         127,         503,         106,\n",
       "               126,         162,         183,         240,   784532054,\n",
       "               270,   782129019,         169,         149,         153,\n",
       "               136,         187,         137,          24,          86,\n",
       "               173,         184,          77,         219,         147,\n",
       "               189,         139,         231,         119,         148,\n",
       "               174])"
      ]
     },
     "execution_count": 26,
     "metadata": {},
     "output_type": "execute_result"
    }
   ],
   "source": [
    "final_data['DistanceToSchool'].unique()"
   ]
  },
  {
   "cell_type": "code",
   "execution_count": 27,
   "id": "b132638c",
   "metadata": {},
   "outputs": [
    {
     "name": "stdout",
     "output_type": "stream",
     "text": [
      "Number of entries with value 2: 3855\n"
     ]
    }
   ],
   "source": [
    "# Count the occurrences of the number 2 in the 'DistanceToSchool' column\n",
    "count_of_2 = final_data['DistanceToSchool'].value_counts().get(2, 0)\n",
    "print(f\"Number of entries with value 2: {count_of_2}\")\n"
   ]
  },
  {
   "cell_type": "code",
   "execution_count": 28,
   "id": "cf367d11",
   "metadata": {},
   "outputs": [
    {
     "name": "stdout",
     "output_type": "stream",
     "text": [
      "<class 'pandas.core.frame.DataFrame'>\n",
      "Index: 84427 entries, 0 to 87396\n",
      "Data columns (total 9 columns):\n",
      " #   Column            Non-Null Count  Dtype \n",
      "---  ------            --------------  ----- \n",
      " 0   Gender            84427 non-null  object\n",
      " 1   ChildStatus       84427 non-null  object\n",
      " 2   DistanceToSchool  84427 non-null  int32 \n",
      " 3   BirthOrder        28682 non-null  object\n",
      " 4   FinancialStatus   70099 non-null  object\n",
      " 5   Residence         32446 non-null  object\n",
      " 6   Transport         31524 non-null  object\n",
      " 7   LightingEnergy    28401 non-null  object\n",
      " 8   DroupoutReason    20 non-null     object\n",
      "dtypes: int32(1), object(8)\n",
      "memory usage: 6.1+ MB\n"
     ]
    }
   ],
   "source": [
    "final_data.info()"
   ]
  },
  {
   "cell_type": "code",
   "execution_count": 29,
   "id": "0988a367",
   "metadata": {},
   "outputs": [
    {
     "name": "stdout",
     "output_type": "stream",
     "text": [
      "Number of entries greater than 400: 117\n"
     ]
    }
   ],
   "source": [
    "# Count the number of entries greater than 400 in the 'DistanceToSchool' column\n",
    "count_greater_400 = (final_data['DistanceToSchool'] > 1000).sum()\n",
    "print(f\"Number of entries greater than 400: {count_greater_400}\")\n"
   ]
  },
  {
   "cell_type": "code",
   "execution_count": 30,
   "id": "ecc0bf08",
   "metadata": {},
   "outputs": [
    {
     "name": "stdout",
     "output_type": "stream",
     "text": [
      "Number of entries with value 2: 259\n"
     ]
    }
   ],
   "source": [
    "# Count the occurrences of the number 2 in the 'DistanceToSchool' column\n",
    "count_of_2 = final_data['DistanceToSchool'].value_counts().get(5, 0)\n",
    "print(f\"Number of entries with value 2: {count_of_2}\")\n"
   ]
  },
  {
   "cell_type": "code",
   "execution_count": 31,
   "id": "c69bf8ab",
   "metadata": {},
   "outputs": [
    {
     "data": {
      "text/plain": [
       "array([          0,           2,           5,           8,          12,\n",
       "                40,          45,         322,          33,         200,\n",
       "               125,         238,          67,           4,           1,\n",
       "                10,           3,        5000,           6,         400,\n",
       "               118,        3000,        6000,          50,         300,\n",
       "                30,          60,           7,          14,           9,\n",
       "                82,          70,         800,          20,         101,\n",
       "               107,         157,          58,         103,          80,\n",
       "                26,          52,         128,          53,         104,\n",
       "               135,          74,         121,         145,          42,\n",
       "              2900,         950,         500,          38,          56,\n",
       "                23,          89,          16,          19,          15,\n",
       "               150,         246,          13,         345,         987,\n",
       "               234,         100,          93,         250,         568,\n",
       "                25,         176,         180,   782419705,         600,\n",
       "               123,          85,         239,   785646145,         199,\n",
       "                87,   783479199,   728797308, -2147483648,   788550824,\n",
       "         726782556,   728614003,   793294119,    78464389,   783682615,\n",
       "         786452904,   798793100,   783996725,   787691368,          51,\n",
       "                17,          64,   729994351,   784731204,   727122044,\n",
       "         736507691,         385,   788576116,   788706777,   788251852,\n",
       "         798266073,   788645806,   723790855,   785543663,   724913846,\n",
       "         788212735,   783526818,   786024934,   783365092,   723724297,\n",
       "         782618712,   791520219,   780538187,   782150986,   726852833,\n",
       "         787377791,         700,   781596036,   737005829,   724250228,\n",
       "         785277731,   787281442,   791187875,   727687184,   784849106,\n",
       "         728270183,   727967371,   724758123,   785037412,   787580175,\n",
       "         798508400,   781712138,   724056924,   783674864,   781956177,\n",
       "         727211867,   722484923,   728721734,   728864404,          18,\n",
       "         788653337,   782549993,   792004331,   783382706,   791649969,\n",
       "                34,          21,   721591324,   722703806,   725749226,\n",
       "         788542020,   737077601,          11,   724899239,   791526126,\n",
       "         729307957,   727728773,   786527065,   784969333,   725584677,\n",
       "         788964607,   791987858,   788801456,   729298403,   780142500,\n",
       "                37,   780838734,   727900124,   784980822,   787784874,\n",
       "         787531643,   784009354,   786611864,   723674788,          72,\n",
       "                39,          36,          75,   789560333,   791186563,\n",
       "         724487180,   727761469,   791203637,   729991894,          83,\n",
       "         784515537,         120,          55,          68,          32,\n",
       "               105,         130,         110,          90,          48,\n",
       "               160,         140,         277,          47,          27,\n",
       "                35,      169100,         340,         450,          65,\n",
       "                57,   782920463,          95,         170,         172,\n",
       "               129,         113,         127,         503,         106,\n",
       "               126,         162,         183,         240,   784532054,\n",
       "               270,   782129019,         169,         149,         153,\n",
       "               136,         187,         137,          24,          86,\n",
       "               173,         184,          77,         219,         147,\n",
       "               189,         139,         231,         119,         148,\n",
       "               174])"
      ]
     },
     "execution_count": 31,
     "metadata": {},
     "output_type": "execute_result"
    }
   ],
   "source": [
    "final_data['DistanceToSchool'].unique()"
   ]
  },
  {
   "cell_type": "code",
   "execution_count": null,
   "id": "7bbc87f6",
   "metadata": {},
   "outputs": [],
   "source": []
  },
  {
   "cell_type": "code",
   "execution_count": null,
   "id": "9a83d716",
   "metadata": {},
   "outputs": [],
   "source": []
  },
  {
   "cell_type": "code",
   "execution_count": null,
   "id": "c3f9d67d",
   "metadata": {},
   "outputs": [],
   "source": []
  },
  {
   "cell_type": "code",
   "execution_count": 32,
   "id": "fc6b46e9",
   "metadata": {},
   "outputs": [
    {
     "name": "stderr",
     "output_type": "stream",
     "text": [
      "C:\\Users\\Hp\\AppData\\Local\\Temp\\ipykernel_19376\\1489751145.py:2: SettingWithCopyWarning: \n",
      "A value is trying to be set on a copy of a slice from a DataFrame.\n",
      "Try using .loc[row_indexer,col_indexer] = value instead\n",
      "\n",
      "See the caveats in the documentation: https://pandas.pydata.org/pandas-docs/stable/user_guide/indexing.html#returning-a-view-versus-a-copy\n",
      "  final_data['DistanceToSchool'] = final_data['DistanceToSchool'].apply(lambda x: 5 if x > 500 else x)\n"
     ]
    }
   ],
   "source": [
    "# Replace values greater than 500 with 5 in the 'DistanceToSchool' column\n",
    "final_data['DistanceToSchool'] = final_data['DistanceToSchool'].apply(lambda x: 5 if x > 500 else x)\n"
   ]
  },
  {
   "cell_type": "code",
   "execution_count": 33,
   "id": "e47867d2",
   "metadata": {},
   "outputs": [
    {
     "name": "stdout",
     "output_type": "stream",
     "text": [
      "Number of entries greater than 400: 87\n"
     ]
    }
   ],
   "source": [
    "# Count the number of entries greater than 400 in the 'DistanceToSchool' column\n",
    "count_greater_400 = (final_data['DistanceToSchool'] > 200).sum()\n",
    "print(f\"Number of entries greater than 400: {count_greater_400}\")\n"
   ]
  },
  {
   "cell_type": "code",
   "execution_count": null,
   "id": "6cd7f2db",
   "metadata": {},
   "outputs": [],
   "source": []
  },
  {
   "cell_type": "code",
   "execution_count": 34,
   "id": "696760e9",
   "metadata": {},
   "outputs": [
    {
     "data": {
      "text/plain": [
       "array([nan, 'Fourthborn', 'Thirdborn', 'Secondborn', 'Firstborn',\n",
       "       'Fifthborn', 'Sixthborn', 'Seventhborn', 'Eighthborn', 'Others',\n",
       "       'Ninthborn', 'Twelfthborn', 'Eleventhborn', 'Tenthborn'],\n",
       "      dtype=object)"
      ]
     },
     "execution_count": 34,
     "metadata": {},
     "output_type": "execute_result"
    }
   ],
   "source": [
    "final_data['BirthOrder'].unique()"
   ]
  },
  {
   "cell_type": "code",
   "execution_count": 35,
   "id": "5e00e085",
   "metadata": {},
   "outputs": [
    {
     "name": "stdout",
     "output_type": "stream",
     "text": [
      "Number of entries with value 2: 634\n"
     ]
    },
    {
     "name": "stderr",
     "output_type": "stream",
     "text": [
      "C:\\Users\\Hp\\AppData\\Local\\Temp\\ipykernel_19376\\3756350366.py:2: FutureWarning: Series.__getitem__ treating keys as positions is deprecated. In a future version, integer keys will always be treated as labels (consistent with DataFrame behavior). To access a value by position, use `ser.iloc[pos]`\n",
      "  count_of_2 = final_data['BirthOrder'].value_counts().get(5, 0)\n"
     ]
    }
   ],
   "source": [
    "# Count the occurrences of the number 2 in the 'DistanceToSchool' column\n",
    "count_of_2 = final_data['BirthOrder'].value_counts().get(5, 0)\n",
    "print(f\"Number of entries with value 2: {count_of_2}\")\n"
   ]
  },
  {
   "cell_type": "code",
   "execution_count": 36,
   "id": "92135254",
   "metadata": {},
   "outputs": [
    {
     "name": "stderr",
     "output_type": "stream",
     "text": [
      "C:\\Users\\Hp\\AppData\\Local\\Temp\\ipykernel_19376\\1553261796.py:2: SettingWithCopyWarning: \n",
      "A value is trying to be set on a copy of a slice from a DataFrame.\n",
      "Try using .loc[row_indexer,col_indexer] = value instead\n",
      "\n",
      "See the caveats in the documentation: https://pandas.pydata.org/pandas-docs/stable/user_guide/indexing.html#returning-a-view-versus-a-copy\n",
      "  final_data['BirthOrder'] = final_data['BirthOrder'].fillna('Secondborn')\n"
     ]
    }
   ],
   "source": [
    "# Replace NaN values in the 'BirthOrder' column with 'Unknown'\n",
    "final_data['BirthOrder'] = final_data['BirthOrder'].fillna('Secondborn')\n"
   ]
  },
  {
   "cell_type": "code",
   "execution_count": 37,
   "id": "ef02c20a",
   "metadata": {},
   "outputs": [
    {
     "data": {
      "text/plain": [
       "array(['Secondborn', 'Fourthborn', 'Thirdborn', 'Firstborn', 'Fifthborn',\n",
       "       'Sixthborn', 'Seventhborn', 'Eighthborn', 'Others', 'Ninthborn',\n",
       "       'Twelfthborn', 'Eleventhborn', 'Tenthborn'], dtype=object)"
      ]
     },
     "execution_count": 37,
     "metadata": {},
     "output_type": "execute_result"
    }
   ],
   "source": [
    "final_data['BirthOrder'].unique()"
   ]
  },
  {
   "cell_type": "code",
   "execution_count": null,
   "id": "33332529",
   "metadata": {},
   "outputs": [],
   "source": []
  },
  {
   "cell_type": "code",
   "execution_count": null,
   "id": "a37117a6",
   "metadata": {},
   "outputs": [],
   "source": []
  },
  {
   "cell_type": "code",
   "execution_count": 38,
   "id": "45b467a1",
   "metadata": {},
   "outputs": [],
   "source": [
    "#final_data['MedicalConditions'].unique()"
   ]
  },
  {
   "cell_type": "code",
   "execution_count": 39,
   "id": "fcc961e0",
   "metadata": {},
   "outputs": [],
   "source": [
    "#final_data['ParentStatus'].unique()"
   ]
  },
  {
   "cell_type": "code",
   "execution_count": 40,
   "id": "0f80da69",
   "metadata": {},
   "outputs": [],
   "source": [
    "#final_data['MotherJob'].unique()"
   ]
  },
  {
   "cell_type": "code",
   "execution_count": 41,
   "id": "47f7e48d",
   "metadata": {},
   "outputs": [],
   "source": [
    "# Count NaN values in the 'BirthOrder' column\n",
    "#nan_count = final_data['MotherJob'].isna().sum()\n",
    "#print(f\"Number of NaN values in 'BirthOrder' column: {nan_count}\")\n"
   ]
  },
  {
   "cell_type": "code",
   "execution_count": 42,
   "id": "0066706a",
   "metadata": {},
   "outputs": [
    {
     "name": "stdout",
     "output_type": "stream",
     "text": [
      "<class 'pandas.core.frame.DataFrame'>\n",
      "Index: 84427 entries, 0 to 87396\n",
      "Data columns (total 9 columns):\n",
      " #   Column            Non-Null Count  Dtype \n",
      "---  ------            --------------  ----- \n",
      " 0   Gender            84427 non-null  object\n",
      " 1   ChildStatus       84427 non-null  object\n",
      " 2   DistanceToSchool  84427 non-null  int64 \n",
      " 3   BirthOrder        84427 non-null  object\n",
      " 4   FinancialStatus   70099 non-null  object\n",
      " 5   Residence         32446 non-null  object\n",
      " 6   Transport         31524 non-null  object\n",
      " 7   LightingEnergy    28401 non-null  object\n",
      " 8   DroupoutReason    20 non-null     object\n",
      "dtypes: int64(1), object(8)\n",
      "memory usage: 6.4+ MB\n"
     ]
    }
   ],
   "source": [
    "final_data.info()"
   ]
  },
  {
   "cell_type": "code",
   "execution_count": null,
   "id": "a182e58c",
   "metadata": {},
   "outputs": [],
   "source": []
  },
  {
   "cell_type": "code",
   "execution_count": null,
   "id": "cb3b726d",
   "metadata": {},
   "outputs": [],
   "source": []
  },
  {
   "cell_type": "code",
   "execution_count": null,
   "id": "608d25a4",
   "metadata": {},
   "outputs": [],
   "source": []
  },
  {
   "cell_type": "code",
   "execution_count": null,
   "id": "99fb0edd",
   "metadata": {},
   "outputs": [],
   "source": []
  },
  {
   "cell_type": "code",
   "execution_count": 43,
   "id": "9827f355",
   "metadata": {},
   "outputs": [],
   "source": [
    "#final_data['FatherJob'].unique()"
   ]
  },
  {
   "cell_type": "code",
   "execution_count": 44,
   "id": "a9a78296",
   "metadata": {},
   "outputs": [],
   "source": [
    "# Count NaN values in the 'BirthOrder' column\n",
    "#nan_count = final_data['FatherJob'].isna().sum()\n",
    "#print(f\"Number of NaN values in 'BirthOrder' column: {nan_count}\")\n"
   ]
  },
  {
   "cell_type": "code",
   "execution_count": null,
   "id": "c110e9f6",
   "metadata": {},
   "outputs": [],
   "source": []
  },
  {
   "cell_type": "code",
   "execution_count": null,
   "id": "12f646e3",
   "metadata": {},
   "outputs": [],
   "source": []
  },
  {
   "cell_type": "code",
   "execution_count": null,
   "id": "c68254d7",
   "metadata": {},
   "outputs": [],
   "source": []
  },
  {
   "cell_type": "code",
   "execution_count": null,
   "id": "efa54bf8",
   "metadata": {},
   "outputs": [],
   "source": []
  },
  {
   "cell_type": "code",
   "execution_count": 45,
   "id": "49bdf68f",
   "metadata": {},
   "outputs": [
    {
     "data": {
      "text/plain": [
       "array([nan, 'false', 'Rich', 'Poverty', 'Medium'], dtype=object)"
      ]
     },
     "execution_count": 45,
     "metadata": {},
     "output_type": "execute_result"
    }
   ],
   "source": [
    "final_data['FinancialStatus'].unique()"
   ]
  },
  {
   "cell_type": "code",
   "execution_count": 46,
   "id": "36541507",
   "metadata": {},
   "outputs": [
    {
     "name": "stderr",
     "output_type": "stream",
     "text": [
      "C:\\Users\\Hp\\AppData\\Local\\Temp\\ipykernel_19376\\2598200831.py:2: SettingWithCopyWarning: \n",
      "A value is trying to be set on a copy of a slice from a DataFrame.\n",
      "Try using .loc[row_indexer,col_indexer] = value instead\n",
      "\n",
      "See the caveats in the documentation: https://pandas.pydata.org/pandas-docs/stable/user_guide/indexing.html#returning-a-view-versus-a-copy\n",
      "  final_data['FinancialStatus'] = final_data['FinancialStatus'].fillna('Poverty')\n",
      "C:\\Users\\Hp\\AppData\\Local\\Temp\\ipykernel_19376\\2598200831.py:3: SettingWithCopyWarning: \n",
      "A value is trying to be set on a copy of a slice from a DataFrame.\n",
      "Try using .loc[row_indexer,col_indexer] = value instead\n",
      "\n",
      "See the caveats in the documentation: https://pandas.pydata.org/pandas-docs/stable/user_guide/indexing.html#returning-a-view-versus-a-copy\n",
      "  final_data['FinancialStatus'] = final_data['FinancialStatus'].replace('false', 'Medium')\n"
     ]
    }
   ],
   "source": [
    "# Replace NaN with 'Poverty' and 'false' with 'Medium' in the 'FinancialStatus' column\n",
    "final_data['FinancialStatus'] = final_data['FinancialStatus'].fillna('Poverty')\n",
    "final_data['FinancialStatus'] = final_data['FinancialStatus'].replace('false', 'Medium')\n"
   ]
  },
  {
   "cell_type": "code",
   "execution_count": 47,
   "id": "bcaf10f5",
   "metadata": {},
   "outputs": [
    {
     "data": {
      "text/plain": [
       "array(['Poverty', 'Medium', 'Rich'], dtype=object)"
      ]
     },
     "execution_count": 47,
     "metadata": {},
     "output_type": "execute_result"
    }
   ],
   "source": [
    "final_data['FinancialStatus'].unique()"
   ]
  },
  {
   "cell_type": "code",
   "execution_count": null,
   "id": "cd13038d",
   "metadata": {},
   "outputs": [],
   "source": []
  },
  {
   "cell_type": "code",
   "execution_count": null,
   "id": "02667c71",
   "metadata": {},
   "outputs": [],
   "source": []
  },
  {
   "cell_type": "code",
   "execution_count": null,
   "id": "ff934b2c",
   "metadata": {},
   "outputs": [],
   "source": []
  },
  {
   "cell_type": "code",
   "execution_count": 48,
   "id": "40b372e2",
   "metadata": {},
   "outputs": [
    {
     "data": {
      "text/plain": [
       "array([nan, 'Apartment', 'House', 'Mobile Home', 'Condo', 'Mansion',\n",
       "       'Ranch', 'Townhouse', 'Tiny House', 'Farmhouse', 'Duplex', 'Villa',\n",
       "       'Cabin', 'Bungalow'], dtype=object)"
      ]
     },
     "execution_count": 48,
     "metadata": {},
     "output_type": "execute_result"
    }
   ],
   "source": [
    "final_data['Residence'].unique()"
   ]
  },
  {
   "cell_type": "code",
   "execution_count": 49,
   "id": "362a82dc",
   "metadata": {},
   "outputs": [
    {
     "name": "stderr",
     "output_type": "stream",
     "text": [
      "C:\\Users\\Hp\\AppData\\Local\\Temp\\ipykernel_19376\\3369063390.py:2: SettingWithCopyWarning: \n",
      "A value is trying to be set on a copy of a slice from a DataFrame.\n",
      "Try using .loc[row_indexer,col_indexer] = value instead\n",
      "\n",
      "See the caveats in the documentation: https://pandas.pydata.org/pandas-docs/stable/user_guide/indexing.html#returning-a-view-versus-a-copy\n",
      "  final_data['Residence'] = final_data['Residence'].fillna('Tiny House')\n"
     ]
    }
   ],
   "source": [
    "# Replace NaN with 'Poverty' and 'false' with 'Medium' in the 'FinancialStatus' column\n",
    "final_data['Residence'] = final_data['Residence'].fillna('Tiny House')\n",
    "#final_data['Residence'] = final_data['Residence'].replace('false', 'Medium')\n"
   ]
  },
  {
   "cell_type": "code",
   "execution_count": 50,
   "id": "61abd26b",
   "metadata": {},
   "outputs": [
    {
     "data": {
      "text/plain": [
       "array(['Tiny House', 'Apartment', 'House', 'Mobile Home', 'Condo',\n",
       "       'Mansion', 'Ranch', 'Townhouse', 'Farmhouse', 'Duplex', 'Villa',\n",
       "       'Cabin', 'Bungalow'], dtype=object)"
      ]
     },
     "execution_count": 50,
     "metadata": {},
     "output_type": "execute_result"
    }
   ],
   "source": [
    "final_data['Residence'].unique()"
   ]
  },
  {
   "cell_type": "code",
   "execution_count": null,
   "id": "616044b4",
   "metadata": {},
   "outputs": [],
   "source": []
  },
  {
   "cell_type": "code",
   "execution_count": null,
   "id": "3e255a21",
   "metadata": {},
   "outputs": [],
   "source": []
  },
  {
   "cell_type": "code",
   "execution_count": null,
   "id": "ef7fb105",
   "metadata": {},
   "outputs": [],
   "source": []
  },
  {
   "cell_type": "code",
   "execution_count": 51,
   "id": "bd020808",
   "metadata": {},
   "outputs": [
    {
     "data": {
      "text/plain": [
       "array([nan, 'Car', 'Walking', 'No Transportation', 'Bicycle',\n",
       "       'Public Transit', 'Scooter', 'Motorcycle', 'Electric Vehicle',\n",
       "       'Carpooling', 'Telecommuting', 'No Regular Transportation'],\n",
       "      dtype=object)"
      ]
     },
     "execution_count": 51,
     "metadata": {},
     "output_type": "execute_result"
    }
   ],
   "source": [
    "final_data['Transport'].unique()"
   ]
  },
  {
   "cell_type": "code",
   "execution_count": 52,
   "id": "e4819520",
   "metadata": {},
   "outputs": [
    {
     "name": "stderr",
     "output_type": "stream",
     "text": [
      "C:\\Users\\Hp\\AppData\\Local\\Temp\\ipykernel_19376\\4077391725.py:2: SettingWithCopyWarning: \n",
      "A value is trying to be set on a copy of a slice from a DataFrame.\n",
      "Try using .loc[row_indexer,col_indexer] = value instead\n",
      "\n",
      "See the caveats in the documentation: https://pandas.pydata.org/pandas-docs/stable/user_guide/indexing.html#returning-a-view-versus-a-copy\n",
      "  final_data['Transport'] = final_data['Transport'].fillna('Walking')\n"
     ]
    }
   ],
   "source": [
    "# Replace NaN with 'Poverty' and 'false' with 'Medium' in the 'FinancialStatus' column\n",
    "final_data['Transport'] = final_data['Transport'].fillna('Walking')\n",
    "#final_data['Residence'] = final_data['Residence'].replace('false', 'Medium')\n"
   ]
  },
  {
   "cell_type": "code",
   "execution_count": 53,
   "id": "2517a51f",
   "metadata": {},
   "outputs": [
    {
     "data": {
      "text/plain": [
       "array(['Walking', 'Car', 'No Transportation', 'Bicycle', 'Public Transit',\n",
       "       'Scooter', 'Motorcycle', 'Electric Vehicle', 'Carpooling',\n",
       "       'Telecommuting', 'No Regular Transportation'], dtype=object)"
      ]
     },
     "execution_count": 53,
     "metadata": {},
     "output_type": "execute_result"
    }
   ],
   "source": [
    "final_data['Transport'].unique()"
   ]
  },
  {
   "cell_type": "code",
   "execution_count": null,
   "id": "b729700b",
   "metadata": {},
   "outputs": [],
   "source": []
  },
  {
   "cell_type": "code",
   "execution_count": null,
   "id": "0c47cbec",
   "metadata": {},
   "outputs": [],
   "source": []
  },
  {
   "cell_type": "code",
   "execution_count": null,
   "id": "04193335",
   "metadata": {},
   "outputs": [],
   "source": []
  },
  {
   "cell_type": "code",
   "execution_count": null,
   "id": "1fde25a4",
   "metadata": {},
   "outputs": [],
   "source": []
  },
  {
   "cell_type": "code",
   "execution_count": 54,
   "id": "d8b15f2b",
   "metadata": {},
   "outputs": [
    {
     "data": {
      "text/plain": [
       "array([nan, 'Solar', 'Electricity', 'Geothermal', 'Nuclear',\n",
       "       'Hydroelectric', 'Wind', 'Wind Energy', 'Solar Energy',\n",
       "       'Nuclear Power', 'Geothermal Energy', 'Hydroelectric Power'],\n",
       "      dtype=object)"
      ]
     },
     "execution_count": 54,
     "metadata": {},
     "output_type": "execute_result"
    }
   ],
   "source": [
    "final_data['LightingEnergy'].unique()"
   ]
  },
  {
   "cell_type": "code",
   "execution_count": 55,
   "id": "920e380c",
   "metadata": {},
   "outputs": [
    {
     "name": "stderr",
     "output_type": "stream",
     "text": [
      "C:\\Users\\Hp\\AppData\\Local\\Temp\\ipykernel_19376\\1032777808.py:2: SettingWithCopyWarning: \n",
      "A value is trying to be set on a copy of a slice from a DataFrame.\n",
      "Try using .loc[row_indexer,col_indexer] = value instead\n",
      "\n",
      "See the caveats in the documentation: https://pandas.pydata.org/pandas-docs/stable/user_guide/indexing.html#returning-a-view-versus-a-copy\n",
      "  final_data['LightingEnergy'] = final_data['LightingEnergy'].fillna('Electricity')\n"
     ]
    }
   ],
   "source": [
    "# Replace NaN with 'Poverty' and 'false' with 'Medium' in the 'FinancialStatus' column\n",
    "final_data['LightingEnergy'] = final_data['LightingEnergy'].fillna('Electricity')\n",
    "#final_data['Residence'] = final_data['Residence'].replace('false', 'Medium')\n"
   ]
  },
  {
   "cell_type": "code",
   "execution_count": null,
   "id": "1cc6db2c",
   "metadata": {},
   "outputs": [],
   "source": []
  },
  {
   "cell_type": "code",
   "execution_count": null,
   "id": "9d4cc595",
   "metadata": {},
   "outputs": [],
   "source": []
  },
  {
   "cell_type": "code",
   "execution_count": null,
   "id": "ca599140",
   "metadata": {},
   "outputs": [],
   "source": []
  },
  {
   "cell_type": "code",
   "execution_count": null,
   "id": "0bc90753",
   "metadata": {},
   "outputs": [],
   "source": []
  },
  {
   "cell_type": "code",
   "execution_count": null,
   "id": "9217fb6a",
   "metadata": {},
   "outputs": [],
   "source": []
  },
  {
   "cell_type": "code",
   "execution_count": 56,
   "id": "05725a8f",
   "metadata": {},
   "outputs": [
    {
     "data": {
      "text/plain": [
       "array(['Electricity', 'Solar', 'Geothermal', 'Nuclear', 'Hydroelectric',\n",
       "       'Wind', 'Wind Energy', 'Solar Energy', 'Nuclear Power',\n",
       "       'Geothermal Energy', 'Hydroelectric Power'], dtype=object)"
      ]
     },
     "execution_count": 56,
     "metadata": {},
     "output_type": "execute_result"
    }
   ],
   "source": [
    "final_data['LightingEnergy'].unique()"
   ]
  },
  {
   "cell_type": "code",
   "execution_count": null,
   "id": "28efef04",
   "metadata": {},
   "outputs": [],
   "source": []
  },
  {
   "cell_type": "code",
   "execution_count": 57,
   "id": "726fbeff",
   "metadata": {},
   "outputs": [
    {
     "data": {
      "text/plain": [
       "array([nan, 'kubura ibikoresho by\"ishuri', \"Amafaranga Y'ishuri\",\n",
       "       'Minerval', 'Gutwita', 'Yagiye mugisirikare', 'Uburwayi ',\n",
       "       'Present', \"I DONT 'KNOW\", 'gutwita', 'double ', 'double listing',\n",
       "       'No reason ', 'minerval', 'inkweto', 'ikaramu', 'Gutwita ', 'Hh ',\n",
       "       'Amakaramu'], dtype=object)"
      ]
     },
     "execution_count": 57,
     "metadata": {},
     "output_type": "execute_result"
    }
   ],
   "source": [
    "final_data['DroupoutReason'].unique()"
   ]
  },
  {
   "cell_type": "code",
   "execution_count": 58,
   "id": "d9389f10",
   "metadata": {},
   "outputs": [
    {
     "name": "stdout",
     "output_type": "stream",
     "text": [
      "<class 'pandas.core.frame.DataFrame'>\n",
      "Index: 84427 entries, 0 to 87396\n",
      "Data columns (total 9 columns):\n",
      " #   Column            Non-Null Count  Dtype \n",
      "---  ------            --------------  ----- \n",
      " 0   Gender            84427 non-null  object\n",
      " 1   ChildStatus       84427 non-null  object\n",
      " 2   DistanceToSchool  84427 non-null  int64 \n",
      " 3   BirthOrder        84427 non-null  object\n",
      " 4   FinancialStatus   84427 non-null  object\n",
      " 5   Residence         84427 non-null  object\n",
      " 6   Transport         84427 non-null  object\n",
      " 7   LightingEnergy    84427 non-null  object\n",
      " 8   DroupoutReason    20 non-null     object\n",
      "dtypes: int64(1), object(8)\n",
      "memory usage: 6.4+ MB\n"
     ]
    }
   ],
   "source": [
    "final_data.info()"
   ]
  },
  {
   "cell_type": "code",
   "execution_count": 59,
   "id": "652b64ff",
   "metadata": {},
   "outputs": [
    {
     "data": {
      "text/plain": [
       "Gender                  0\n",
       "ChildStatus             0\n",
       "DistanceToSchool        0\n",
       "BirthOrder              0\n",
       "FinancialStatus         0\n",
       "Residence               0\n",
       "Transport               0\n",
       "LightingEnergy          0\n",
       "DroupoutReason      84407\n",
       "dtype: int64"
      ]
     },
     "execution_count": 59,
     "metadata": {},
     "output_type": "execute_result"
    }
   ],
   "source": [
    "final_data.isnull().sum()"
   ]
  },
  {
   "cell_type": "code",
   "execution_count": 60,
   "id": "de44481f",
   "metadata": {},
   "outputs": [
    {
     "data": {
      "text/html": [
       "<div>\n",
       "<style scoped>\n",
       "    .dataframe tbody tr th:only-of-type {\n",
       "        vertical-align: middle;\n",
       "    }\n",
       "\n",
       "    .dataframe tbody tr th {\n",
       "        vertical-align: top;\n",
       "    }\n",
       "\n",
       "    .dataframe thead th {\n",
       "        text-align: right;\n",
       "    }\n",
       "</style>\n",
       "<table border=\"1\" class=\"dataframe\">\n",
       "  <thead>\n",
       "    <tr style=\"text-align: right;\">\n",
       "      <th></th>\n",
       "      <th>Gender</th>\n",
       "      <th>ChildStatus</th>\n",
       "      <th>DistanceToSchool</th>\n",
       "      <th>BirthOrder</th>\n",
       "      <th>FinancialStatus</th>\n",
       "      <th>Residence</th>\n",
       "      <th>Transport</th>\n",
       "      <th>LightingEnergy</th>\n",
       "      <th>DroupoutReason</th>\n",
       "    </tr>\n",
       "  </thead>\n",
       "  <tbody>\n",
       "    <tr>\n",
       "      <th>0</th>\n",
       "      <td>MALE</td>\n",
       "      <td>Orphan</td>\n",
       "      <td>0</td>\n",
       "      <td>Secondborn</td>\n",
       "      <td>Poverty</td>\n",
       "      <td>Tiny House</td>\n",
       "      <td>Walking</td>\n",
       "      <td>Electricity</td>\n",
       "      <td>NaN</td>\n",
       "    </tr>\n",
       "    <tr>\n",
       "      <th>1</th>\n",
       "      <td>FEMALE</td>\n",
       "      <td>Orphan</td>\n",
       "      <td>0</td>\n",
       "      <td>Secondborn</td>\n",
       "      <td>Poverty</td>\n",
       "      <td>Tiny House</td>\n",
       "      <td>Walking</td>\n",
       "      <td>Electricity</td>\n",
       "      <td>NaN</td>\n",
       "    </tr>\n",
       "    <tr>\n",
       "      <th>2</th>\n",
       "      <td>FEMALE</td>\n",
       "      <td>Orphan</td>\n",
       "      <td>0</td>\n",
       "      <td>Secondborn</td>\n",
       "      <td>Poverty</td>\n",
       "      <td>Tiny House</td>\n",
       "      <td>Walking</td>\n",
       "      <td>Electricity</td>\n",
       "      <td>NaN</td>\n",
       "    </tr>\n",
       "    <tr>\n",
       "      <th>3</th>\n",
       "      <td>FEMALE</td>\n",
       "      <td>Orphan</td>\n",
       "      <td>0</td>\n",
       "      <td>Secondborn</td>\n",
       "      <td>Poverty</td>\n",
       "      <td>Tiny House</td>\n",
       "      <td>Walking</td>\n",
       "      <td>Electricity</td>\n",
       "      <td>NaN</td>\n",
       "    </tr>\n",
       "    <tr>\n",
       "      <th>4</th>\n",
       "      <td>MALE</td>\n",
       "      <td>Orphan</td>\n",
       "      <td>0</td>\n",
       "      <td>Secondborn</td>\n",
       "      <td>Poverty</td>\n",
       "      <td>Tiny House</td>\n",
       "      <td>Walking</td>\n",
       "      <td>Electricity</td>\n",
       "      <td>NaN</td>\n",
       "    </tr>\n",
       "  </tbody>\n",
       "</table>\n",
       "</div>"
      ],
      "text/plain": [
       "   Gender ChildStatus  DistanceToSchool  BirthOrder FinancialStatus  \\\n",
       "0    MALE      Orphan                 0  Secondborn         Poverty   \n",
       "1  FEMALE      Orphan                 0  Secondborn         Poverty   \n",
       "2  FEMALE      Orphan                 0  Secondborn         Poverty   \n",
       "3  FEMALE      Orphan                 0  Secondborn         Poverty   \n",
       "4    MALE      Orphan                 0  Secondborn         Poverty   \n",
       "\n",
       "    Residence Transport LightingEnergy DroupoutReason  \n",
       "0  Tiny House   Walking    Electricity            NaN  \n",
       "1  Tiny House   Walking    Electricity            NaN  \n",
       "2  Tiny House   Walking    Electricity            NaN  \n",
       "3  Tiny House   Walking    Electricity            NaN  \n",
       "4  Tiny House   Walking    Electricity            NaN  "
      ]
     },
     "execution_count": 60,
     "metadata": {},
     "output_type": "execute_result"
    }
   ],
   "source": [
    "final_data.head()"
   ]
  },
  {
   "cell_type": "code",
   "execution_count": 61,
   "id": "5384269e",
   "metadata": {},
   "outputs": [
    {
     "data": {
      "text/plain": [
       "array([nan, 'kubura ibikoresho by\"ishuri', \"Amafaranga Y'ishuri\",\n",
       "       'Minerval', 'Gutwita', 'Yagiye mugisirikare', 'Uburwayi ',\n",
       "       'Present', \"I DONT 'KNOW\", 'gutwita', 'double ', 'double listing',\n",
       "       'No reason ', 'minerval', 'inkweto', 'ikaramu', 'Gutwita ', 'Hh ',\n",
       "       'Amakaramu'], dtype=object)"
      ]
     },
     "execution_count": 61,
     "metadata": {},
     "output_type": "execute_result"
    }
   ],
   "source": [
    "final_data['DroupoutReason'].unique()"
   ]
  },
  {
   "cell_type": "code",
   "execution_count": 62,
   "id": "49011432",
   "metadata": {},
   "outputs": [
    {
     "name": "stderr",
     "output_type": "stream",
     "text": [
      "C:\\Users\\Hp\\AppData\\Local\\Temp\\ipykernel_19376\\2485074971.py:2: SettingWithCopyWarning: \n",
      "A value is trying to be set on a copy of a slice from a DataFrame.\n",
      "Try using .loc[row_indexer,col_indexer] = value instead\n",
      "\n",
      "See the caveats in the documentation: https://pandas.pydata.org/pandas-docs/stable/user_guide/indexing.html#returning-a-view-versus-a-copy\n",
      "  final_data['DroupoutReason'] = final_data['DroupoutReason'].fillna('studying')\n"
     ]
    }
   ],
   "source": [
    "# Replace NaN values in the 'DroupoutReason' column with 'studying'\n",
    "final_data['DroupoutReason'] = final_data['DroupoutReason'].fillna('studying')\n"
   ]
  },
  {
   "cell_type": "code",
   "execution_count": 63,
   "id": "89361eb8",
   "metadata": {},
   "outputs": [],
   "source": [
    "#final_data['MedicalConditions'].unique()"
   ]
  },
  {
   "cell_type": "code",
   "execution_count": 64,
   "id": "846b677b",
   "metadata": {},
   "outputs": [
    {
     "data": {
      "text/plain": [
       "Gender              0\n",
       "ChildStatus         0\n",
       "DistanceToSchool    0\n",
       "BirthOrder          0\n",
       "FinancialStatus     0\n",
       "Residence           0\n",
       "Transport           0\n",
       "LightingEnergy      0\n",
       "DroupoutReason      0\n",
       "dtype: int64"
      ]
     },
     "execution_count": 64,
     "metadata": {},
     "output_type": "execute_result"
    }
   ],
   "source": [
    "final_data.isnull().sum()"
   ]
  },
  {
   "cell_type": "code",
   "execution_count": 65,
   "id": "c95a5179",
   "metadata": {},
   "outputs": [
    {
     "data": {
      "text/html": [
       "<div>\n",
       "<style scoped>\n",
       "    .dataframe tbody tr th:only-of-type {\n",
       "        vertical-align: middle;\n",
       "    }\n",
       "\n",
       "    .dataframe tbody tr th {\n",
       "        vertical-align: top;\n",
       "    }\n",
       "\n",
       "    .dataframe thead th {\n",
       "        text-align: right;\n",
       "    }\n",
       "</style>\n",
       "<table border=\"1\" class=\"dataframe\">\n",
       "  <thead>\n",
       "    <tr style=\"text-align: right;\">\n",
       "      <th></th>\n",
       "      <th>Gender</th>\n",
       "      <th>ChildStatus</th>\n",
       "      <th>DistanceToSchool</th>\n",
       "      <th>BirthOrder</th>\n",
       "      <th>FinancialStatus</th>\n",
       "      <th>Residence</th>\n",
       "      <th>Transport</th>\n",
       "      <th>LightingEnergy</th>\n",
       "      <th>DroupoutReason</th>\n",
       "    </tr>\n",
       "  </thead>\n",
       "  <tbody>\n",
       "    <tr>\n",
       "      <th>0</th>\n",
       "      <td>MALE</td>\n",
       "      <td>Orphan</td>\n",
       "      <td>0</td>\n",
       "      <td>Secondborn</td>\n",
       "      <td>Poverty</td>\n",
       "      <td>Tiny House</td>\n",
       "      <td>Walking</td>\n",
       "      <td>Electricity</td>\n",
       "      <td>studying</td>\n",
       "    </tr>\n",
       "    <tr>\n",
       "      <th>1</th>\n",
       "      <td>FEMALE</td>\n",
       "      <td>Orphan</td>\n",
       "      <td>0</td>\n",
       "      <td>Secondborn</td>\n",
       "      <td>Poverty</td>\n",
       "      <td>Tiny House</td>\n",
       "      <td>Walking</td>\n",
       "      <td>Electricity</td>\n",
       "      <td>studying</td>\n",
       "    </tr>\n",
       "    <tr>\n",
       "      <th>2</th>\n",
       "      <td>FEMALE</td>\n",
       "      <td>Orphan</td>\n",
       "      <td>0</td>\n",
       "      <td>Secondborn</td>\n",
       "      <td>Poverty</td>\n",
       "      <td>Tiny House</td>\n",
       "      <td>Walking</td>\n",
       "      <td>Electricity</td>\n",
       "      <td>studying</td>\n",
       "    </tr>\n",
       "    <tr>\n",
       "      <th>3</th>\n",
       "      <td>FEMALE</td>\n",
       "      <td>Orphan</td>\n",
       "      <td>0</td>\n",
       "      <td>Secondborn</td>\n",
       "      <td>Poverty</td>\n",
       "      <td>Tiny House</td>\n",
       "      <td>Walking</td>\n",
       "      <td>Electricity</td>\n",
       "      <td>studying</td>\n",
       "    </tr>\n",
       "    <tr>\n",
       "      <th>4</th>\n",
       "      <td>MALE</td>\n",
       "      <td>Orphan</td>\n",
       "      <td>0</td>\n",
       "      <td>Secondborn</td>\n",
       "      <td>Poverty</td>\n",
       "      <td>Tiny House</td>\n",
       "      <td>Walking</td>\n",
       "      <td>Electricity</td>\n",
       "      <td>studying</td>\n",
       "    </tr>\n",
       "  </tbody>\n",
       "</table>\n",
       "</div>"
      ],
      "text/plain": [
       "   Gender ChildStatus  DistanceToSchool  BirthOrder FinancialStatus  \\\n",
       "0    MALE      Orphan                 0  Secondborn         Poverty   \n",
       "1  FEMALE      Orphan                 0  Secondborn         Poverty   \n",
       "2  FEMALE      Orphan                 0  Secondborn         Poverty   \n",
       "3  FEMALE      Orphan                 0  Secondborn         Poverty   \n",
       "4    MALE      Orphan                 0  Secondborn         Poverty   \n",
       "\n",
       "    Residence Transport LightingEnergy DroupoutReason  \n",
       "0  Tiny House   Walking    Electricity       studying  \n",
       "1  Tiny House   Walking    Electricity       studying  \n",
       "2  Tiny House   Walking    Electricity       studying  \n",
       "3  Tiny House   Walking    Electricity       studying  \n",
       "4  Tiny House   Walking    Electricity       studying  "
      ]
     },
     "execution_count": 65,
     "metadata": {},
     "output_type": "execute_result"
    }
   ],
   "source": [
    "final_data.head()"
   ]
  },
  {
   "cell_type": "code",
   "execution_count": 66,
   "id": "ad6b8037",
   "metadata": {},
   "outputs": [
    {
     "data": {
      "text/plain": [
       "array(['studying', 'kubura ibikoresho by\"ishuri', \"Amafaranga Y'ishuri\",\n",
       "       'Minerval', 'Gutwita', 'Yagiye mugisirikare', 'Uburwayi ',\n",
       "       'Present', \"I DONT 'KNOW\", 'gutwita', 'double ', 'double listing',\n",
       "       'No reason ', 'minerval', 'inkweto', 'ikaramu', 'Gutwita ', 'Hh ',\n",
       "       'Amakaramu'], dtype=object)"
      ]
     },
     "execution_count": 66,
     "metadata": {},
     "output_type": "execute_result"
    }
   ],
   "source": [
    "final_data['DroupoutReason'].unique()"
   ]
  },
  {
   "cell_type": "code",
   "execution_count": 67,
   "id": "e99cf098",
   "metadata": {},
   "outputs": [
    {
     "data": {
      "text/html": [
       "<div>\n",
       "<style scoped>\n",
       "    .dataframe tbody tr th:only-of-type {\n",
       "        vertical-align: middle;\n",
       "    }\n",
       "\n",
       "    .dataframe tbody tr th {\n",
       "        vertical-align: top;\n",
       "    }\n",
       "\n",
       "    .dataframe thead th {\n",
       "        text-align: right;\n",
       "    }\n",
       "</style>\n",
       "<table border=\"1\" class=\"dataframe\">\n",
       "  <thead>\n",
       "    <tr style=\"text-align: right;\">\n",
       "      <th></th>\n",
       "      <th>Gender</th>\n",
       "      <th>ChildStatus</th>\n",
       "      <th>DistanceToSchool</th>\n",
       "      <th>BirthOrder</th>\n",
       "      <th>FinancialStatus</th>\n",
       "      <th>Residence</th>\n",
       "      <th>Transport</th>\n",
       "      <th>LightingEnergy</th>\n",
       "      <th>DroupoutReason</th>\n",
       "    </tr>\n",
       "  </thead>\n",
       "  <tbody>\n",
       "    <tr>\n",
       "      <th>0</th>\n",
       "      <td>MALE</td>\n",
       "      <td>Orphan</td>\n",
       "      <td>0</td>\n",
       "      <td>Secondborn</td>\n",
       "      <td>Poverty</td>\n",
       "      <td>Tiny House</td>\n",
       "      <td>Walking</td>\n",
       "      <td>Electricity</td>\n",
       "      <td>studying</td>\n",
       "    </tr>\n",
       "    <tr>\n",
       "      <th>1</th>\n",
       "      <td>FEMALE</td>\n",
       "      <td>Orphan</td>\n",
       "      <td>0</td>\n",
       "      <td>Secondborn</td>\n",
       "      <td>Poverty</td>\n",
       "      <td>Tiny House</td>\n",
       "      <td>Walking</td>\n",
       "      <td>Electricity</td>\n",
       "      <td>studying</td>\n",
       "    </tr>\n",
       "    <tr>\n",
       "      <th>2</th>\n",
       "      <td>FEMALE</td>\n",
       "      <td>Orphan</td>\n",
       "      <td>0</td>\n",
       "      <td>Secondborn</td>\n",
       "      <td>Poverty</td>\n",
       "      <td>Tiny House</td>\n",
       "      <td>Walking</td>\n",
       "      <td>Electricity</td>\n",
       "      <td>studying</td>\n",
       "    </tr>\n",
       "    <tr>\n",
       "      <th>3</th>\n",
       "      <td>FEMALE</td>\n",
       "      <td>Orphan</td>\n",
       "      <td>0</td>\n",
       "      <td>Secondborn</td>\n",
       "      <td>Poverty</td>\n",
       "      <td>Tiny House</td>\n",
       "      <td>Walking</td>\n",
       "      <td>Electricity</td>\n",
       "      <td>studying</td>\n",
       "    </tr>\n",
       "    <tr>\n",
       "      <th>4</th>\n",
       "      <td>MALE</td>\n",
       "      <td>Orphan</td>\n",
       "      <td>0</td>\n",
       "      <td>Secondborn</td>\n",
       "      <td>Poverty</td>\n",
       "      <td>Tiny House</td>\n",
       "      <td>Walking</td>\n",
       "      <td>Electricity</td>\n",
       "      <td>studying</td>\n",
       "    </tr>\n",
       "    <tr>\n",
       "      <th>...</th>\n",
       "      <td>...</td>\n",
       "      <td>...</td>\n",
       "      <td>...</td>\n",
       "      <td>...</td>\n",
       "      <td>...</td>\n",
       "      <td>...</td>\n",
       "      <td>...</td>\n",
       "      <td>...</td>\n",
       "      <td>...</td>\n",
       "    </tr>\n",
       "    <tr>\n",
       "      <th>87392</th>\n",
       "      <td>FEMALE</td>\n",
       "      <td>Both parents</td>\n",
       "      <td>3</td>\n",
       "      <td>Thirdborn</td>\n",
       "      <td>Medium</td>\n",
       "      <td>House</td>\n",
       "      <td>Walking</td>\n",
       "      <td>Solar</td>\n",
       "      <td>studying</td>\n",
       "    </tr>\n",
       "    <tr>\n",
       "      <th>87393</th>\n",
       "      <td>FEMALE</td>\n",
       "      <td>Both parents</td>\n",
       "      <td>0</td>\n",
       "      <td>Secondborn</td>\n",
       "      <td>Medium</td>\n",
       "      <td>House</td>\n",
       "      <td>Walking</td>\n",
       "      <td>Solar</td>\n",
       "      <td>studying</td>\n",
       "    </tr>\n",
       "    <tr>\n",
       "      <th>87394</th>\n",
       "      <td>FEMALE</td>\n",
       "      <td>Both parents</td>\n",
       "      <td>0</td>\n",
       "      <td>Thirdborn</td>\n",
       "      <td>Medium</td>\n",
       "      <td>House</td>\n",
       "      <td>Walking</td>\n",
       "      <td>Solar</td>\n",
       "      <td>studying</td>\n",
       "    </tr>\n",
       "    <tr>\n",
       "      <th>87395</th>\n",
       "      <td>FEMALE</td>\n",
       "      <td>Both parents</td>\n",
       "      <td>0</td>\n",
       "      <td>Fourthborn</td>\n",
       "      <td>Medium</td>\n",
       "      <td>House</td>\n",
       "      <td>Walking</td>\n",
       "      <td>Solar</td>\n",
       "      <td>studying</td>\n",
       "    </tr>\n",
       "    <tr>\n",
       "      <th>87396</th>\n",
       "      <td>MALE</td>\n",
       "      <td>Orphan</td>\n",
       "      <td>0</td>\n",
       "      <td>Secondborn</td>\n",
       "      <td>Poverty</td>\n",
       "      <td>Tiny House</td>\n",
       "      <td>Walking</td>\n",
       "      <td>Electricity</td>\n",
       "      <td>studying</td>\n",
       "    </tr>\n",
       "  </tbody>\n",
       "</table>\n",
       "<p>84427 rows × 9 columns</p>\n",
       "</div>"
      ],
      "text/plain": [
       "       Gender   ChildStatus  DistanceToSchool  BirthOrder FinancialStatus  \\\n",
       "0        MALE        Orphan                 0  Secondborn         Poverty   \n",
       "1      FEMALE        Orphan                 0  Secondborn         Poverty   \n",
       "2      FEMALE        Orphan                 0  Secondborn         Poverty   \n",
       "3      FEMALE        Orphan                 0  Secondborn         Poverty   \n",
       "4        MALE        Orphan                 0  Secondborn         Poverty   \n",
       "...       ...           ...               ...         ...             ...   \n",
       "87392  FEMALE  Both parents                 3   Thirdborn          Medium   \n",
       "87393  FEMALE  Both parents                 0  Secondborn          Medium   \n",
       "87394  FEMALE  Both parents                 0   Thirdborn          Medium   \n",
       "87395  FEMALE  Both parents                 0  Fourthborn          Medium   \n",
       "87396    MALE        Orphan                 0  Secondborn         Poverty   \n",
       "\n",
       "        Residence Transport LightingEnergy DroupoutReason  \n",
       "0      Tiny House   Walking    Electricity       studying  \n",
       "1      Tiny House   Walking    Electricity       studying  \n",
       "2      Tiny House   Walking    Electricity       studying  \n",
       "3      Tiny House   Walking    Electricity       studying  \n",
       "4      Tiny House   Walking    Electricity       studying  \n",
       "...           ...       ...            ...            ...  \n",
       "87392       House   Walking          Solar       studying  \n",
       "87393       House   Walking          Solar       studying  \n",
       "87394       House   Walking          Solar       studying  \n",
       "87395       House   Walking          Solar       studying  \n",
       "87396  Tiny House   Walking    Electricity       studying  \n",
       "\n",
       "[84427 rows x 9 columns]"
      ]
     },
     "execution_count": 67,
     "metadata": {},
     "output_type": "execute_result"
    }
   ],
   "source": [
    "final_data"
   ]
  },
  {
   "cell_type": "code",
   "execution_count": null,
   "id": "ed6c686e",
   "metadata": {},
   "outputs": [],
   "source": []
  },
  {
   "cell_type": "code",
   "execution_count": 68,
   "id": "87c4b1fd",
   "metadata": {},
   "outputs": [],
   "source": [
    "# # Count the number of ones in the 'Target' column\n",
    "# ones_count = final_data['Target'].sum()\n",
    "# print(f\"Number of ones in 'Target': {ones_count}\")\n"
   ]
  },
  {
   "cell_type": "code",
   "execution_count": 69,
   "id": "a8d46458",
   "metadata": {},
   "outputs": [],
   "source": [
    "# # Count the number of zeros in the 'Target' column\n",
    "# zeros_count = (final_data['Target'] == 0).sum()\n",
    "# print(f\"Number of zeros in 'Target': {zeros_count}\")\n"
   ]
  },
  {
   "cell_type": "markdown",
   "id": "17789445",
   "metadata": {},
   "source": [
    "### moodel"
   ]
  },
  {
   "cell_type": "code",
   "execution_count": 70,
   "id": "ce22b121",
   "metadata": {},
   "outputs": [],
   "source": [
    "features=[\n",
    "    'Gender', 'ChildStatus', 'DistanceToSchool', 'BirthOrder', \n",
    "    'FinancialStatus', 'Residence', 'Transport', 'LightingEnergy'\n",
    "]"
   ]
  },
  {
   "cell_type": "code",
   "execution_count": 71,
   "id": "6e911def",
   "metadata": {},
   "outputs": [],
   "source": [
    "from catboost import Pool, CatBoostClassifier\n",
    "from sklearn.model_selection import train_test_split\n",
    "from sklearn.metrics import accuracy_score, classification_report"
   ]
  },
  {
   "cell_type": "code",
   "execution_count": 72,
   "id": "dea1e70f",
   "metadata": {},
   "outputs": [],
   "source": [
    "# Define dropout reasons\n",
    "dropout_reasons = [\n",
    "    'kubura ibikoresho by\"ishuri', \"Amafaranga Y'ishuri\", 'Minerval',\n",
    "    'Gutwita', 'Yagiye mugisirikare', 'Uburwayi ', 'double ', 'double listing',\n",
    "    'No reason ', 'minerval', 'inkweto', 'ikaramu', 'Gutwita ', 'Amakaramu'\n",
    "]"
   ]
  },
  {
   "cell_type": "code",
   "execution_count": 73,
   "id": "b4b84afe",
   "metadata": {},
   "outputs": [
    {
     "name": "stderr",
     "output_type": "stream",
     "text": [
      "C:\\Users\\Hp\\AppData\\Local\\Temp\\ipykernel_19376\\240484213.py:2: SettingWithCopyWarning: \n",
      "A value is trying to be set on a copy of a slice from a DataFrame.\n",
      "Try using .loc[row_indexer,col_indexer] = value instead\n",
      "\n",
      "See the caveats in the documentation: https://pandas.pydata.org/pandas-docs/stable/user_guide/indexing.html#returning-a-view-versus-a-copy\n",
      "  final_data['Target'] = final_data['DroupoutReason'].apply(lambda x: 1 if x in dropout_reasons else 0)\n"
     ]
    }
   ],
   "source": [
    "# Map the 'DroupoutReason' column to binary target\n",
    "final_data['Target'] = final_data['DroupoutReason'].apply(lambda x: 1 if x in dropout_reasons else 0)\n"
   ]
  },
  {
   "cell_type": "code",
   "execution_count": 74,
   "id": "8575c32d",
   "metadata": {},
   "outputs": [
    {
     "data": {
      "text/html": [
       "<div>\n",
       "<style scoped>\n",
       "    .dataframe tbody tr th:only-of-type {\n",
       "        vertical-align: middle;\n",
       "    }\n",
       "\n",
       "    .dataframe tbody tr th {\n",
       "        vertical-align: top;\n",
       "    }\n",
       "\n",
       "    .dataframe thead th {\n",
       "        text-align: right;\n",
       "    }\n",
       "</style>\n",
       "<table border=\"1\" class=\"dataframe\">\n",
       "  <thead>\n",
       "    <tr style=\"text-align: right;\">\n",
       "      <th></th>\n",
       "      <th>Gender</th>\n",
       "      <th>ChildStatus</th>\n",
       "      <th>DistanceToSchool</th>\n",
       "      <th>BirthOrder</th>\n",
       "      <th>FinancialStatus</th>\n",
       "      <th>Residence</th>\n",
       "      <th>Transport</th>\n",
       "      <th>LightingEnergy</th>\n",
       "      <th>DroupoutReason</th>\n",
       "      <th>Target</th>\n",
       "    </tr>\n",
       "  </thead>\n",
       "  <tbody>\n",
       "    <tr>\n",
       "      <th>0</th>\n",
       "      <td>MALE</td>\n",
       "      <td>Orphan</td>\n",
       "      <td>0</td>\n",
       "      <td>Secondborn</td>\n",
       "      <td>Poverty</td>\n",
       "      <td>Tiny House</td>\n",
       "      <td>Walking</td>\n",
       "      <td>Electricity</td>\n",
       "      <td>studying</td>\n",
       "      <td>0</td>\n",
       "    </tr>\n",
       "    <tr>\n",
       "      <th>1</th>\n",
       "      <td>FEMALE</td>\n",
       "      <td>Orphan</td>\n",
       "      <td>0</td>\n",
       "      <td>Secondborn</td>\n",
       "      <td>Poverty</td>\n",
       "      <td>Tiny House</td>\n",
       "      <td>Walking</td>\n",
       "      <td>Electricity</td>\n",
       "      <td>studying</td>\n",
       "      <td>0</td>\n",
       "    </tr>\n",
       "    <tr>\n",
       "      <th>2</th>\n",
       "      <td>FEMALE</td>\n",
       "      <td>Orphan</td>\n",
       "      <td>0</td>\n",
       "      <td>Secondborn</td>\n",
       "      <td>Poverty</td>\n",
       "      <td>Tiny House</td>\n",
       "      <td>Walking</td>\n",
       "      <td>Electricity</td>\n",
       "      <td>studying</td>\n",
       "      <td>0</td>\n",
       "    </tr>\n",
       "    <tr>\n",
       "      <th>3</th>\n",
       "      <td>FEMALE</td>\n",
       "      <td>Orphan</td>\n",
       "      <td>0</td>\n",
       "      <td>Secondborn</td>\n",
       "      <td>Poverty</td>\n",
       "      <td>Tiny House</td>\n",
       "      <td>Walking</td>\n",
       "      <td>Electricity</td>\n",
       "      <td>studying</td>\n",
       "      <td>0</td>\n",
       "    </tr>\n",
       "    <tr>\n",
       "      <th>4</th>\n",
       "      <td>MALE</td>\n",
       "      <td>Orphan</td>\n",
       "      <td>0</td>\n",
       "      <td>Secondborn</td>\n",
       "      <td>Poverty</td>\n",
       "      <td>Tiny House</td>\n",
       "      <td>Walking</td>\n",
       "      <td>Electricity</td>\n",
       "      <td>studying</td>\n",
       "      <td>0</td>\n",
       "    </tr>\n",
       "    <tr>\n",
       "      <th>...</th>\n",
       "      <td>...</td>\n",
       "      <td>...</td>\n",
       "      <td>...</td>\n",
       "      <td>...</td>\n",
       "      <td>...</td>\n",
       "      <td>...</td>\n",
       "      <td>...</td>\n",
       "      <td>...</td>\n",
       "      <td>...</td>\n",
       "      <td>...</td>\n",
       "    </tr>\n",
       "    <tr>\n",
       "      <th>87392</th>\n",
       "      <td>FEMALE</td>\n",
       "      <td>Both parents</td>\n",
       "      <td>3</td>\n",
       "      <td>Thirdborn</td>\n",
       "      <td>Medium</td>\n",
       "      <td>House</td>\n",
       "      <td>Walking</td>\n",
       "      <td>Solar</td>\n",
       "      <td>studying</td>\n",
       "      <td>0</td>\n",
       "    </tr>\n",
       "    <tr>\n",
       "      <th>87393</th>\n",
       "      <td>FEMALE</td>\n",
       "      <td>Both parents</td>\n",
       "      <td>0</td>\n",
       "      <td>Secondborn</td>\n",
       "      <td>Medium</td>\n",
       "      <td>House</td>\n",
       "      <td>Walking</td>\n",
       "      <td>Solar</td>\n",
       "      <td>studying</td>\n",
       "      <td>0</td>\n",
       "    </tr>\n",
       "    <tr>\n",
       "      <th>87394</th>\n",
       "      <td>FEMALE</td>\n",
       "      <td>Both parents</td>\n",
       "      <td>0</td>\n",
       "      <td>Thirdborn</td>\n",
       "      <td>Medium</td>\n",
       "      <td>House</td>\n",
       "      <td>Walking</td>\n",
       "      <td>Solar</td>\n",
       "      <td>studying</td>\n",
       "      <td>0</td>\n",
       "    </tr>\n",
       "    <tr>\n",
       "      <th>87395</th>\n",
       "      <td>FEMALE</td>\n",
       "      <td>Both parents</td>\n",
       "      <td>0</td>\n",
       "      <td>Fourthborn</td>\n",
       "      <td>Medium</td>\n",
       "      <td>House</td>\n",
       "      <td>Walking</td>\n",
       "      <td>Solar</td>\n",
       "      <td>studying</td>\n",
       "      <td>0</td>\n",
       "    </tr>\n",
       "    <tr>\n",
       "      <th>87396</th>\n",
       "      <td>MALE</td>\n",
       "      <td>Orphan</td>\n",
       "      <td>0</td>\n",
       "      <td>Secondborn</td>\n",
       "      <td>Poverty</td>\n",
       "      <td>Tiny House</td>\n",
       "      <td>Walking</td>\n",
       "      <td>Electricity</td>\n",
       "      <td>studying</td>\n",
       "      <td>0</td>\n",
       "    </tr>\n",
       "  </tbody>\n",
       "</table>\n",
       "<p>84427 rows × 10 columns</p>\n",
       "</div>"
      ],
      "text/plain": [
       "       Gender   ChildStatus  DistanceToSchool  BirthOrder FinancialStatus  \\\n",
       "0        MALE        Orphan                 0  Secondborn         Poverty   \n",
       "1      FEMALE        Orphan                 0  Secondborn         Poverty   \n",
       "2      FEMALE        Orphan                 0  Secondborn         Poverty   \n",
       "3      FEMALE        Orphan                 0  Secondborn         Poverty   \n",
       "4        MALE        Orphan                 0  Secondborn         Poverty   \n",
       "...       ...           ...               ...         ...             ...   \n",
       "87392  FEMALE  Both parents                 3   Thirdborn          Medium   \n",
       "87393  FEMALE  Both parents                 0  Secondborn          Medium   \n",
       "87394  FEMALE  Both parents                 0   Thirdborn          Medium   \n",
       "87395  FEMALE  Both parents                 0  Fourthborn          Medium   \n",
       "87396    MALE        Orphan                 0  Secondborn         Poverty   \n",
       "\n",
       "        Residence Transport LightingEnergy DroupoutReason  Target  \n",
       "0      Tiny House   Walking    Electricity       studying       0  \n",
       "1      Tiny House   Walking    Electricity       studying       0  \n",
       "2      Tiny House   Walking    Electricity       studying       0  \n",
       "3      Tiny House   Walking    Electricity       studying       0  \n",
       "4      Tiny House   Walking    Electricity       studying       0  \n",
       "...           ...       ...            ...            ...     ...  \n",
       "87392       House   Walking          Solar       studying       0  \n",
       "87393       House   Walking          Solar       studying       0  \n",
       "87394       House   Walking          Solar       studying       0  \n",
       "87395       House   Walking          Solar       studying       0  \n",
       "87396  Tiny House   Walking    Electricity       studying       0  \n",
       "\n",
       "[84427 rows x 10 columns]"
      ]
     },
     "execution_count": 74,
     "metadata": {},
     "output_type": "execute_result"
    }
   ],
   "source": [
    "final_data"
   ]
  },
  {
   "cell_type": "code",
   "execution_count": 75,
   "id": "a417412f",
   "metadata": {},
   "outputs": [
    {
     "data": {
      "text/plain": [
       "array([0, 1], dtype=int64)"
      ]
     },
     "execution_count": 75,
     "metadata": {},
     "output_type": "execute_result"
    }
   ],
   "source": [
    "final_data['Target'].unique()"
   ]
  },
  {
   "cell_type": "code",
   "execution_count": 76,
   "id": "2e0abbf4",
   "metadata": {},
   "outputs": [],
   "source": [
    "# Select only the relevant features and target\n",
    "X = final_data[features]\n",
    "y = final_data['Target']"
   ]
  },
  {
   "cell_type": "code",
   "execution_count": 77,
   "id": "22db1a62",
   "metadata": {},
   "outputs": [
    {
     "name": "stdout",
     "output_type": "stream",
     "text": [
      "Number of zeros in 'Target': 84411\n"
     ]
    }
   ],
   "source": [
    "# Count the number of zeros in the 'Target' column\n",
    "zeros_count = (final_data['Target'] == 0).sum()\n",
    "print(f\"Number of zeros in 'Target': {zeros_count}\")\n"
   ]
  },
  {
   "cell_type": "code",
   "execution_count": 78,
   "id": "8c3bef4c",
   "metadata": {},
   "outputs": [
    {
     "data": {
      "text/plain": [
       "Index(['Gender', 'ChildStatus', 'DistanceToSchool', 'BirthOrder',\n",
       "       'FinancialStatus', 'Residence', 'Transport', 'LightingEnergy'],\n",
       "      dtype='object')"
      ]
     },
     "execution_count": 78,
     "metadata": {},
     "output_type": "execute_result"
    }
   ],
   "source": [
    "X.columns"
   ]
  },
  {
   "cell_type": "code",
   "execution_count": 79,
   "id": "87ddb55e",
   "metadata": {},
   "outputs": [
    {
     "name": "stdout",
     "output_type": "stream",
     "text": [
      "<class 'pandas.core.series.Series'>\n",
      "Index: 84427 entries, 0 to 87396\n",
      "Series name: Target\n",
      "Non-Null Count  Dtype\n",
      "--------------  -----\n",
      "84427 non-null  int64\n",
      "dtypes: int64(1)\n",
      "memory usage: 1.3 MB\n"
     ]
    }
   ],
   "source": [
    "y.info()"
   ]
  },
  {
   "cell_type": "code",
   "execution_count": 80,
   "id": "03dbea82",
   "metadata": {},
   "outputs": [
    {
     "data": {
      "text/plain": [
       "array(['Tiny House', 'Apartment', 'House', 'Mobile Home', 'Condo',\n",
       "       'Mansion', 'Ranch', 'Townhouse', 'Farmhouse', 'Duplex', 'Villa',\n",
       "       'Cabin', 'Bungalow'], dtype=object)"
      ]
     },
     "execution_count": 80,
     "metadata": {},
     "output_type": "execute_result"
    }
   ],
   "source": [
    "X['Residence'].unique()"
   ]
  },
  {
   "cell_type": "code",
   "execution_count": 81,
   "id": "fe1088bd",
   "metadata": {},
   "outputs": [],
   "source": [
    "# Identify categorical features (assume object and some integer columns are categorical)\n",
    "categorical_features = X.select_dtypes(include=['object']).columns.tolist()"
   ]
  },
  {
   "cell_type": "code",
   "execution_count": 82,
   "id": "3f59014c",
   "metadata": {},
   "outputs": [
    {
     "data": {
      "text/plain": [
       "['Gender',\n",
       " 'ChildStatus',\n",
       " 'BirthOrder',\n",
       " 'FinancialStatus',\n",
       " 'Residence',\n",
       " 'Transport',\n",
       " 'LightingEnergy']"
      ]
     },
     "execution_count": 82,
     "metadata": {},
     "output_type": "execute_result"
    }
   ],
   "source": [
    "categorical_features"
   ]
  },
  {
   "cell_type": "code",
   "execution_count": 83,
   "id": "74c7e26a",
   "metadata": {},
   "outputs": [
    {
     "data": {
      "text/html": [
       "<div>\n",
       "<style scoped>\n",
       "    .dataframe tbody tr th:only-of-type {\n",
       "        vertical-align: middle;\n",
       "    }\n",
       "\n",
       "    .dataframe tbody tr th {\n",
       "        vertical-align: top;\n",
       "    }\n",
       "\n",
       "    .dataframe thead th {\n",
       "        text-align: right;\n",
       "    }\n",
       "</style>\n",
       "<table border=\"1\" class=\"dataframe\">\n",
       "  <thead>\n",
       "    <tr style=\"text-align: right;\">\n",
       "      <th></th>\n",
       "      <th>Gender</th>\n",
       "      <th>ChildStatus</th>\n",
       "      <th>DistanceToSchool</th>\n",
       "      <th>BirthOrder</th>\n",
       "      <th>FinancialStatus</th>\n",
       "      <th>Residence</th>\n",
       "      <th>Transport</th>\n",
       "      <th>LightingEnergy</th>\n",
       "    </tr>\n",
       "  </thead>\n",
       "  <tbody>\n",
       "    <tr>\n",
       "      <th>0</th>\n",
       "      <td>MALE</td>\n",
       "      <td>Orphan</td>\n",
       "      <td>0</td>\n",
       "      <td>Secondborn</td>\n",
       "      <td>Poverty</td>\n",
       "      <td>Tiny House</td>\n",
       "      <td>Walking</td>\n",
       "      <td>Electricity</td>\n",
       "    </tr>\n",
       "    <tr>\n",
       "      <th>1</th>\n",
       "      <td>FEMALE</td>\n",
       "      <td>Orphan</td>\n",
       "      <td>0</td>\n",
       "      <td>Secondborn</td>\n",
       "      <td>Poverty</td>\n",
       "      <td>Tiny House</td>\n",
       "      <td>Walking</td>\n",
       "      <td>Electricity</td>\n",
       "    </tr>\n",
       "    <tr>\n",
       "      <th>2</th>\n",
       "      <td>FEMALE</td>\n",
       "      <td>Orphan</td>\n",
       "      <td>0</td>\n",
       "      <td>Secondborn</td>\n",
       "      <td>Poverty</td>\n",
       "      <td>Tiny House</td>\n",
       "      <td>Walking</td>\n",
       "      <td>Electricity</td>\n",
       "    </tr>\n",
       "    <tr>\n",
       "      <th>3</th>\n",
       "      <td>FEMALE</td>\n",
       "      <td>Orphan</td>\n",
       "      <td>0</td>\n",
       "      <td>Secondborn</td>\n",
       "      <td>Poverty</td>\n",
       "      <td>Tiny House</td>\n",
       "      <td>Walking</td>\n",
       "      <td>Electricity</td>\n",
       "    </tr>\n",
       "    <tr>\n",
       "      <th>4</th>\n",
       "      <td>MALE</td>\n",
       "      <td>Orphan</td>\n",
       "      <td>0</td>\n",
       "      <td>Secondborn</td>\n",
       "      <td>Poverty</td>\n",
       "      <td>Tiny House</td>\n",
       "      <td>Walking</td>\n",
       "      <td>Electricity</td>\n",
       "    </tr>\n",
       "    <tr>\n",
       "      <th>...</th>\n",
       "      <td>...</td>\n",
       "      <td>...</td>\n",
       "      <td>...</td>\n",
       "      <td>...</td>\n",
       "      <td>...</td>\n",
       "      <td>...</td>\n",
       "      <td>...</td>\n",
       "      <td>...</td>\n",
       "    </tr>\n",
       "    <tr>\n",
       "      <th>87392</th>\n",
       "      <td>FEMALE</td>\n",
       "      <td>Both parents</td>\n",
       "      <td>3</td>\n",
       "      <td>Thirdborn</td>\n",
       "      <td>Medium</td>\n",
       "      <td>House</td>\n",
       "      <td>Walking</td>\n",
       "      <td>Solar</td>\n",
       "    </tr>\n",
       "    <tr>\n",
       "      <th>87393</th>\n",
       "      <td>FEMALE</td>\n",
       "      <td>Both parents</td>\n",
       "      <td>0</td>\n",
       "      <td>Secondborn</td>\n",
       "      <td>Medium</td>\n",
       "      <td>House</td>\n",
       "      <td>Walking</td>\n",
       "      <td>Solar</td>\n",
       "    </tr>\n",
       "    <tr>\n",
       "      <th>87394</th>\n",
       "      <td>FEMALE</td>\n",
       "      <td>Both parents</td>\n",
       "      <td>0</td>\n",
       "      <td>Thirdborn</td>\n",
       "      <td>Medium</td>\n",
       "      <td>House</td>\n",
       "      <td>Walking</td>\n",
       "      <td>Solar</td>\n",
       "    </tr>\n",
       "    <tr>\n",
       "      <th>87395</th>\n",
       "      <td>FEMALE</td>\n",
       "      <td>Both parents</td>\n",
       "      <td>0</td>\n",
       "      <td>Fourthborn</td>\n",
       "      <td>Medium</td>\n",
       "      <td>House</td>\n",
       "      <td>Walking</td>\n",
       "      <td>Solar</td>\n",
       "    </tr>\n",
       "    <tr>\n",
       "      <th>87396</th>\n",
       "      <td>MALE</td>\n",
       "      <td>Orphan</td>\n",
       "      <td>0</td>\n",
       "      <td>Secondborn</td>\n",
       "      <td>Poverty</td>\n",
       "      <td>Tiny House</td>\n",
       "      <td>Walking</td>\n",
       "      <td>Electricity</td>\n",
       "    </tr>\n",
       "  </tbody>\n",
       "</table>\n",
       "<p>84427 rows × 8 columns</p>\n",
       "</div>"
      ],
      "text/plain": [
       "       Gender   ChildStatus  DistanceToSchool  BirthOrder FinancialStatus  \\\n",
       "0        MALE        Orphan                 0  Secondborn         Poverty   \n",
       "1      FEMALE        Orphan                 0  Secondborn         Poverty   \n",
       "2      FEMALE        Orphan                 0  Secondborn         Poverty   \n",
       "3      FEMALE        Orphan                 0  Secondborn         Poverty   \n",
       "4        MALE        Orphan                 0  Secondborn         Poverty   \n",
       "...       ...           ...               ...         ...             ...   \n",
       "87392  FEMALE  Both parents                 3   Thirdborn          Medium   \n",
       "87393  FEMALE  Both parents                 0  Secondborn          Medium   \n",
       "87394  FEMALE  Both parents                 0   Thirdborn          Medium   \n",
       "87395  FEMALE  Both parents                 0  Fourthborn          Medium   \n",
       "87396    MALE        Orphan                 0  Secondborn         Poverty   \n",
       "\n",
       "        Residence Transport LightingEnergy  \n",
       "0      Tiny House   Walking    Electricity  \n",
       "1      Tiny House   Walking    Electricity  \n",
       "2      Tiny House   Walking    Electricity  \n",
       "3      Tiny House   Walking    Electricity  \n",
       "4      Tiny House   Walking    Electricity  \n",
       "...           ...       ...            ...  \n",
       "87392       House   Walking          Solar  \n",
       "87393       House   Walking          Solar  \n",
       "87394       House   Walking          Solar  \n",
       "87395       House   Walking          Solar  \n",
       "87396  Tiny House   Walking    Electricity  \n",
       "\n",
       "[84427 rows x 8 columns]"
      ]
     },
     "execution_count": 83,
     "metadata": {},
     "output_type": "execute_result"
    }
   ],
   "source": [
    "X"
   ]
  },
  {
   "cell_type": "code",
   "execution_count": 84,
   "id": "1b19f92e",
   "metadata": {},
   "outputs": [],
   "source": [
    "# Split the data into training and test sets\n",
    "X_train, X_test, y_train, y_test = train_test_split(X, y, test_size=0.2, random_state=42)"
   ]
  },
  {
   "cell_type": "code",
   "execution_count": null,
   "id": "59d01125",
   "metadata": {},
   "outputs": [],
   "source": []
  },
  {
   "cell_type": "code",
   "execution_count": 85,
   "id": "013dcb7e",
   "metadata": {},
   "outputs": [],
   "source": [
    "# Create a CatBoost Pool (optional but recommended for categorical features)\n",
    "train_pool = Pool(data=X_train, label=y_train, cat_features=categorical_features)\n",
    "test_pool = Pool(data=X_test, label=y_test, cat_features=categorical_features)"
   ]
  },
  {
   "cell_type": "code",
   "execution_count": null,
   "id": "79047ebb",
   "metadata": {},
   "outputs": [],
   "source": []
  },
  {
   "cell_type": "code",
   "execution_count": 86,
   "id": "7decf0b7",
   "metadata": {},
   "outputs": [
    {
     "name": "stdout",
     "output_type": "stream",
     "text": [
      "0:\tlearn: 0.3520821\ttest: 0.3521874\tbest: 0.3521874 (0)\ttotal: 219ms\tremaining: 1m 49s\n",
      "100:\tlearn: 0.0010639\ttest: 0.0021483\tbest: 0.0021483 (100)\ttotal: 5.28s\tremaining: 20.9s\n",
      "Stopped by overfitting detector  (50 iterations wait)\n",
      "\n",
      "bestTest = 0.002117624801\n",
      "bestIteration = 122\n",
      "\n",
      "Shrink model to first 123 iterations.\n"
     ]
    },
    {
     "data": {
      "text/plain": [
       "<catboost.core.CatBoostClassifier at 0x1ddaf3fc190>"
      ]
     },
     "execution_count": 86,
     "metadata": {},
     "output_type": "execute_result"
    }
   ],
   "source": [
    "\n",
    "# Initialize and train the CatBoost model\n",
    "model = CatBoostClassifier(iterations=500, learning_rate=0.1, depth=6, verbose=100)\n",
    "# Train using the Pool object\n",
    "model.fit(train_pool, eval_set=test_pool, early_stopping_rounds=50)"
   ]
  },
  {
   "cell_type": "code",
   "execution_count": 87,
   "id": "360c6f67",
   "metadata": {},
   "outputs": [
    {
     "name": "stdout",
     "output_type": "stream",
     "text": [
      "Model saved successfully!\n"
     ]
    }
   ],
   "source": [
    "# Save the trained model to a file\n",
    "model.save_model('catboost_model.bin')\n",
    "\n",
    "print(\"Model saved successfully!\")\n"
   ]
  },
  {
   "cell_type": "code",
   "execution_count": 88,
   "id": "881328d5",
   "metadata": {},
   "outputs": [
    {
     "name": "stdout",
     "output_type": "stream",
     "text": [
      "Accuracy: 0.9997038967191757\n",
      "Classification Report:\n",
      "               precision    recall  f1-score   support\n",
      "\n",
      "           0       1.00      1.00      1.00     16881\n",
      "           1       0.00      0.00      0.00         5\n",
      "\n",
      "    accuracy                           1.00     16886\n",
      "   macro avg       0.50      0.50      0.50     16886\n",
      "weighted avg       1.00      1.00      1.00     16886\n",
      "\n",
      "Feature Importances:\n",
      "          Feature Id  Importances\n",
      "0       ChildStatus    45.274648\n",
      "1   FinancialStatus    21.167631\n",
      "2            Gender    10.649156\n",
      "3         Residence     6.387756\n",
      "4  DistanceToSchool     5.765065\n",
      "5         Transport     4.348185\n",
      "6        BirthOrder     3.210297\n",
      "7    LightingEnergy     3.197261\n"
     ]
    },
    {
     "name": "stderr",
     "output_type": "stream",
     "text": [
      "C:\\Users\\Hp\\anaconda3\\Lib\\site-packages\\sklearn\\metrics\\_classification.py:1509: UndefinedMetricWarning: Precision is ill-defined and being set to 0.0 in labels with no predicted samples. Use `zero_division` parameter to control this behavior.\n",
      "  _warn_prf(average, modifier, f\"{metric.capitalize()} is\", len(result))\n",
      "C:\\Users\\Hp\\anaconda3\\Lib\\site-packages\\sklearn\\metrics\\_classification.py:1509: UndefinedMetricWarning: Precision is ill-defined and being set to 0.0 in labels with no predicted samples. Use `zero_division` parameter to control this behavior.\n",
      "  _warn_prf(average, modifier, f\"{metric.capitalize()} is\", len(result))\n",
      "C:\\Users\\Hp\\anaconda3\\Lib\\site-packages\\sklearn\\metrics\\_classification.py:1509: UndefinedMetricWarning: Precision is ill-defined and being set to 0.0 in labels with no predicted samples. Use `zero_division` parameter to control this behavior.\n",
      "  _warn_prf(average, modifier, f\"{metric.capitalize()} is\", len(result))\n"
     ]
    }
   ],
   "source": [
    "# Make predictions\n",
    "y_pred = model.predict(X_test)\n",
    "\n",
    "# Evaluate the model\n",
    "print(\"Accuracy:\", accuracy_score(y_test, y_pred))\n",
    "print(\"Classification Report:\\n\", classification_report(y_test, y_pred))\n",
    "\n",
    "# Feature importance (optional)\n",
    "feature_importances = model.get_feature_importance(prettified=True)\n",
    "print(\"Feature Importances:\\n\", feature_importances)"
   ]
  },
  {
   "cell_type": "code",
   "execution_count": null,
   "id": "b030735a",
   "metadata": {},
   "outputs": [],
   "source": []
  },
  {
   "cell_type": "markdown",
   "id": "25de28eb",
   "metadata": {},
   "source": [
    "### on unseen data"
   ]
  },
  {
   "cell_type": "code",
   "execution_count": 95,
   "id": "cdd0e07d",
   "metadata": {},
   "outputs": [
    {
     "name": "stdout",
     "output_type": "stream",
     "text": [
      "Predictions on Unseen Data: [0 0 0 0]\n"
     ]
    }
   ],
   "source": [
    "import pandas as pd\n",
    "\n",
    "# Example of unseen data as an array\n",
    "unseen_data = [\n",
    "    ['Male', 'Orphan', 5, 'Secondborn', 'Poverty', 'Apartment', 'Car', 'Electricity'],\n",
    "    ['Female', 'Orphan', 10, 'Thirdborn', 'Rich', 'Townhouse', 'Walking', 'Solar'],\n",
    "    ['Male', 'Both parents', 3, 'Fourthborn', 'Poverty', 'Duplex', 'Carpooling', 'Wind'],\n",
    "    ['Female', 'Both parents', 7, 'Fourthborn', 'Medium', 'Villa', 'Scooter', 'Solar']\n",
    "]\n",
    "\n",
    "# Create a DataFrame using the same features as the training data\n",
    "columns = ['Gender', 'ChildStatus', 'DistanceToSchool', 'BirthOrder', \n",
    "           'FinancialStatus', 'Residence', 'Transport', 'LightingEnergy']\n",
    "\n",
    "unseen_df = pd.DataFrame(unseen_data, columns=columns)\n",
    "\n",
    "# You can now use this `unseen_df` DataFrame to make predictions\n",
    "# Assuming you already have the trained CatBoost model from previous steps\n",
    "categorical_features_unseen = unseen_df.select_dtypes(include=['object']).columns.tolist()\n",
    "\n",
    "# Create a Pool for the unseen data\n",
    "unseen_pool = Pool(data=unseen_df, cat_features=categorical_features)\n",
    "\n",
    "# Load the saved model from the file\n",
    "loaded_model = CatBoostClassifier()\n",
    "loaded_model.load_model('catboost_model.bin')\n",
    "\n",
    "# Make predictions on the unseen data\n",
    "y_unseen_pred = loaded_model.predict(unseen_pool)\n",
    "\n",
    "# Print predictions\n",
    "print(\"Predictions on Unseen Data:\", y_unseen_pred)\n"
   ]
  },
  {
   "cell_type": "code",
   "execution_count": null,
   "id": "0f9e3057",
   "metadata": {},
   "outputs": [],
   "source": [
    "unseen_df.info()"
   ]
  },
  {
   "cell_type": "code",
   "execution_count": 91,
   "id": "e27d2b92",
   "metadata": {},
   "outputs": [
    {
     "name": "stdout",
     "output_type": "stream",
     "text": [
      "<class 'pandas.core.frame.DataFrame'>\n",
      "Index: 84427 entries, 0 to 87396\n",
      "Data columns (total 8 columns):\n",
      " #   Column            Non-Null Count  Dtype \n",
      "---  ------            --------------  ----- \n",
      " 0   Gender            84427 non-null  object\n",
      " 1   ChildStatus       84427 non-null  object\n",
      " 2   DistanceToSchool  84427 non-null  int64 \n",
      " 3   BirthOrder        84427 non-null  object\n",
      " 4   FinancialStatus   84427 non-null  object\n",
      " 5   Residence         84427 non-null  object\n",
      " 6   Transport         84427 non-null  object\n",
      " 7   LightingEnergy    84427 non-null  object\n",
      "dtypes: int64(1), object(7)\n",
      "memory usage: 5.8+ MB\n"
     ]
    }
   ],
   "source": [
    "X.info()"
   ]
  },
  {
   "cell_type": "code",
   "execution_count": 98,
   "id": "d5089a0c",
   "metadata": {},
   "outputs": [
    {
     "name": "stdout",
     "output_type": "stream",
     "text": [
      "DataFrame saved as CSV successfully!\n"
     ]
    }
   ],
   "source": [
    "import pandas as pd\n",
    "\n",
    "# Assuming `final_data` is your DataFrame\n",
    "unseen_df.to_csv('final_data.csv', index=False)\n",
    "\n",
    "print(\"DataFrame saved as CSV successfully!\")\n"
   ]
  },
  {
   "cell_type": "code",
   "execution_count": null,
   "id": "0618c1ae",
   "metadata": {},
   "outputs": [],
   "source": []
  },
  {
   "cell_type": "code",
   "execution_count": null,
   "id": "0b8f2429",
   "metadata": {},
   "outputs": [],
   "source": []
  },
  {
   "cell_type": "code",
   "execution_count": null,
   "id": "ec25542e",
   "metadata": {},
   "outputs": [],
   "source": []
  },
  {
   "cell_type": "code",
   "execution_count": null,
   "id": "104c0658",
   "metadata": {},
   "outputs": [],
   "source": []
  }
 ],
 "metadata": {
  "kernelspec": {
   "display_name": "Python 3 (ipykernel)",
   "language": "python",
   "name": "python3"
  },
  "language_info": {
   "codemirror_mode": {
    "name": "ipython",
    "version": 3
   },
   "file_extension": ".py",
   "mimetype": "text/x-python",
   "name": "python",
   "nbconvert_exporter": "python",
   "pygments_lexer": "ipython3",
   "version": "3.11.5"
  }
 },
 "nbformat": 4,
 "nbformat_minor": 5
}
